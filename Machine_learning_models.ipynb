{
 "cells": [
  {
   "cell_type": "code",
   "execution_count": 193,
   "id": "25bb57a0",
   "metadata": {},
   "outputs": [],
   "source": [
    "import numpy as np\n",
    "import pandas as pd\n",
    "import seaborn as sns\n",
    "import matplotlib as plt"
   ]
  },
  {
   "cell_type": "code",
   "execution_count": 194,
   "id": "dffbb29e",
   "metadata": {},
   "outputs": [
    {
     "name": "stdout",
     "output_type": "stream",
     "text": [
      "             Timestamp   Air_Temp  Relative_Humidity  Wind_Speed  \\\n",
      "0     27-04-2022 15:32  43.349172          12.790256    0.533333   \n",
      "1     27-04-2022 15:34  43.433980          11.468986    1.866667   \n",
      "2     27-04-2022 15:36  43.286580          11.047298    2.866667   \n",
      "3     27-04-2022 15:38  43.523020          12.058292    0.000000   \n",
      "4     27-04-2022 15:40  43.728656          10.722330    2.266667   \n",
      "...                ...        ...                ...         ...   \n",
      "1004  29-04-2022 01:00  16.580318          43.276824    0.000000   \n",
      "1005  29-04-2022 01:02  16.336292          42.395772    0.000000   \n",
      "1006  29-04-2022 01:04  16.226494          42.390788    0.000000   \n",
      "1007  29-04-2022 01:06  16.157694          43.270232    0.000000   \n",
      "1008  29-04-2022 01:08  16.222518          44.301432    0.000000   \n",
      "\n",
      "      Wind_Direction  Solar_Radiation       RTD_1      RTD_2      RTD_3  \\\n",
      "0         118.786620       707.533840   98.289640  94.283552  89.002824   \n",
      "1          84.681408       710.463280   98.377480  94.177872  89.334664   \n",
      "2          40.807156       695.510160   97.868064  93.703480  88.844592   \n",
      "3          66.390848       696.244720  101.470960  97.112320  91.963472   \n",
      "4           2.127408       674.057520  101.664240  97.253520  91.980872   \n",
      "...              ...              ...         ...        ...        ...   \n",
      "1004       49.674388        -0.243156   23.969398  25.226270  24.800780   \n",
      "1005      348.423320        -0.344048   23.891640  25.166720  24.720160   \n",
      "1006       43.298232        -0.446709   23.834920  25.131226  24.673068   \n",
      "1007      218.255380        -0.496269   23.777128  25.095664  24.602908   \n",
      "1008      210.405520        -0.496269   23.777128  25.081022  24.579838   \n",
      "\n",
      "          RTD_4      RTD_5  Array_Voltage  Array_Current  Power_Generated  \n",
      "0     93.334288  94.142984      80.178232       5.364869       430.145720  \n",
      "1     93.633208  94.107592      80.266728       5.366041       430.714520  \n",
      "2     92.982568  93.650656      80.187416       5.365501       430.245680  \n",
      "3     96.146384  97.147776      80.727760       5.364512       433.065040  \n",
      "4     96.110968  97.341296      80.500312       5.365144       431.895760  \n",
      "...         ...        ...            ...            ...              ...  \n",
      "1004  24.674114  24.832156       2.833721       5.398601        15.298130  \n",
      "1005  24.610228  24.766238       2.840954       5.398601        15.337176  \n",
      "1006  24.576700  24.728590       2.841992       5.398601        15.342778  \n",
      "1007  24.529578  24.690848       2.839916       5.398421        15.331064  \n",
      "1008  24.539022  24.686726       2.831677       5.398421        15.286582  \n",
      "\n",
      "[1009 rows x 14 columns]\n"
     ]
    }
   ],
   "source": [
    "solar_power= pd.read_csv('solar_data.csv')\n",
    "print(solar_power)"
   ]
  },
  {
   "cell_type": "code",
   "execution_count": 195,
   "id": "0bd9a59b",
   "metadata": {},
   "outputs": [
    {
     "data": {
      "text/html": [
       "<div>\n",
       "<style scoped>\n",
       "    .dataframe tbody tr th:only-of-type {\n",
       "        vertical-align: middle;\n",
       "    }\n",
       "\n",
       "    .dataframe tbody tr th {\n",
       "        vertical-align: top;\n",
       "    }\n",
       "\n",
       "    .dataframe thead th {\n",
       "        text-align: right;\n",
       "    }\n",
       "</style>\n",
       "<table border=\"1\" class=\"dataframe\">\n",
       "  <thead>\n",
       "    <tr style=\"text-align: right;\">\n",
       "      <th></th>\n",
       "      <th>Timestamp</th>\n",
       "      <th>Air_Temp</th>\n",
       "      <th>Relative_Humidity</th>\n",
       "      <th>Wind_Speed</th>\n",
       "      <th>Wind_Direction</th>\n",
       "      <th>Solar_Radiation</th>\n",
       "      <th>RTD_1</th>\n",
       "      <th>RTD_2</th>\n",
       "      <th>RTD_3</th>\n",
       "      <th>RTD_4</th>\n",
       "      <th>RTD_5</th>\n",
       "      <th>Array_Voltage</th>\n",
       "      <th>Array_Current</th>\n",
       "      <th>Power_Generated</th>\n",
       "    </tr>\n",
       "  </thead>\n",
       "  <tbody>\n",
       "    <tr>\n",
       "      <th>0</th>\n",
       "      <td>27-04-2022 15:32</td>\n",
       "      <td>43.349172</td>\n",
       "      <td>12.790256</td>\n",
       "      <td>0.533333</td>\n",
       "      <td>118.786620</td>\n",
       "      <td>707.53384</td>\n",
       "      <td>98.289640</td>\n",
       "      <td>94.283552</td>\n",
       "      <td>89.002824</td>\n",
       "      <td>93.334288</td>\n",
       "      <td>94.142984</td>\n",
       "      <td>80.178232</td>\n",
       "      <td>5.364869</td>\n",
       "      <td>430.14572</td>\n",
       "    </tr>\n",
       "    <tr>\n",
       "      <th>1</th>\n",
       "      <td>27-04-2022 15:34</td>\n",
       "      <td>43.433980</td>\n",
       "      <td>11.468986</td>\n",
       "      <td>1.866667</td>\n",
       "      <td>84.681408</td>\n",
       "      <td>710.46328</td>\n",
       "      <td>98.377480</td>\n",
       "      <td>94.177872</td>\n",
       "      <td>89.334664</td>\n",
       "      <td>93.633208</td>\n",
       "      <td>94.107592</td>\n",
       "      <td>80.266728</td>\n",
       "      <td>5.366041</td>\n",
       "      <td>430.71452</td>\n",
       "    </tr>\n",
       "    <tr>\n",
       "      <th>2</th>\n",
       "      <td>27-04-2022 15:36</td>\n",
       "      <td>43.286580</td>\n",
       "      <td>11.047298</td>\n",
       "      <td>2.866667</td>\n",
       "      <td>40.807156</td>\n",
       "      <td>695.51016</td>\n",
       "      <td>97.868064</td>\n",
       "      <td>93.703480</td>\n",
       "      <td>88.844592</td>\n",
       "      <td>92.982568</td>\n",
       "      <td>93.650656</td>\n",
       "      <td>80.187416</td>\n",
       "      <td>5.365501</td>\n",
       "      <td>430.24568</td>\n",
       "    </tr>\n",
       "    <tr>\n",
       "      <th>3</th>\n",
       "      <td>27-04-2022 15:38</td>\n",
       "      <td>43.523020</td>\n",
       "      <td>12.058292</td>\n",
       "      <td>0.000000</td>\n",
       "      <td>66.390848</td>\n",
       "      <td>696.24472</td>\n",
       "      <td>101.470960</td>\n",
       "      <td>97.112320</td>\n",
       "      <td>91.963472</td>\n",
       "      <td>96.146384</td>\n",
       "      <td>97.147776</td>\n",
       "      <td>80.727760</td>\n",
       "      <td>5.364512</td>\n",
       "      <td>433.06504</td>\n",
       "    </tr>\n",
       "    <tr>\n",
       "      <th>4</th>\n",
       "      <td>27-04-2022 15:40</td>\n",
       "      <td>43.728656</td>\n",
       "      <td>10.722330</td>\n",
       "      <td>2.266667</td>\n",
       "      <td>2.127408</td>\n",
       "      <td>674.05752</td>\n",
       "      <td>101.664240</td>\n",
       "      <td>97.253520</td>\n",
       "      <td>91.980872</td>\n",
       "      <td>96.110968</td>\n",
       "      <td>97.341296</td>\n",
       "      <td>80.500312</td>\n",
       "      <td>5.365144</td>\n",
       "      <td>431.89576</td>\n",
       "    </tr>\n",
       "  </tbody>\n",
       "</table>\n",
       "</div>"
      ],
      "text/plain": [
       "          Timestamp   Air_Temp  Relative_Humidity  Wind_Speed  Wind_Direction  \\\n",
       "0  27-04-2022 15:32  43.349172          12.790256    0.533333      118.786620   \n",
       "1  27-04-2022 15:34  43.433980          11.468986    1.866667       84.681408   \n",
       "2  27-04-2022 15:36  43.286580          11.047298    2.866667       40.807156   \n",
       "3  27-04-2022 15:38  43.523020          12.058292    0.000000       66.390848   \n",
       "4  27-04-2022 15:40  43.728656          10.722330    2.266667        2.127408   \n",
       "\n",
       "   Solar_Radiation       RTD_1      RTD_2      RTD_3      RTD_4      RTD_5  \\\n",
       "0        707.53384   98.289640  94.283552  89.002824  93.334288  94.142984   \n",
       "1        710.46328   98.377480  94.177872  89.334664  93.633208  94.107592   \n",
       "2        695.51016   97.868064  93.703480  88.844592  92.982568  93.650656   \n",
       "3        696.24472  101.470960  97.112320  91.963472  96.146384  97.147776   \n",
       "4        674.05752  101.664240  97.253520  91.980872  96.110968  97.341296   \n",
       "\n",
       "   Array_Voltage  Array_Current  Power_Generated  \n",
       "0      80.178232       5.364869        430.14572  \n",
       "1      80.266728       5.366041        430.71452  \n",
       "2      80.187416       5.365501        430.24568  \n",
       "3      80.727760       5.364512        433.06504  \n",
       "4      80.500312       5.365144        431.89576  "
      ]
     },
     "execution_count": 195,
     "metadata": {},
     "output_type": "execute_result"
    }
   ],
   "source": [
    "solar_power.head()"
   ]
  },
  {
   "cell_type": "code",
   "execution_count": 196,
   "id": "ff16af94",
   "metadata": {},
   "outputs": [
    {
     "data": {
      "text/plain": [
       "(1009, 14)"
      ]
     },
     "execution_count": 196,
     "metadata": {},
     "output_type": "execute_result"
    }
   ],
   "source": [
    "# Data analysis\n",
    "solar_power.shape"
   ]
  },
  {
   "cell_type": "code",
   "execution_count": 197,
   "id": "5c22e72c",
   "metadata": {},
   "outputs": [
    {
     "data": {
      "text/html": [
       "<div>\n",
       "<style scoped>\n",
       "    .dataframe tbody tr th:only-of-type {\n",
       "        vertical-align: middle;\n",
       "    }\n",
       "\n",
       "    .dataframe tbody tr th {\n",
       "        vertical-align: top;\n",
       "    }\n",
       "\n",
       "    .dataframe thead th {\n",
       "        text-align: right;\n",
       "    }\n",
       "</style>\n",
       "<table border=\"1\" class=\"dataframe\">\n",
       "  <thead>\n",
       "    <tr style=\"text-align: right;\">\n",
       "      <th></th>\n",
       "      <th>Air_Temp</th>\n",
       "      <th>Relative_Humidity</th>\n",
       "      <th>Wind_Speed</th>\n",
       "      <th>Wind_Direction</th>\n",
       "      <th>Solar_Radiation</th>\n",
       "      <th>RTD_1</th>\n",
       "      <th>RTD_2</th>\n",
       "      <th>RTD_3</th>\n",
       "      <th>RTD_4</th>\n",
       "      <th>RTD_5</th>\n",
       "      <th>Array_Voltage</th>\n",
       "      <th>Array_Current</th>\n",
       "      <th>Power_Generated</th>\n",
       "    </tr>\n",
       "  </thead>\n",
       "  <tbody>\n",
       "    <tr>\n",
       "      <th>count</th>\n",
       "      <td>1009.000000</td>\n",
       "      <td>1009.000000</td>\n",
       "      <td>1009.000000</td>\n",
       "      <td>1009.000000</td>\n",
       "      <td>1009.000000</td>\n",
       "      <td>1009.000000</td>\n",
       "      <td>1009.000000</td>\n",
       "      <td>1009.000000</td>\n",
       "      <td>1009.000000</td>\n",
       "      <td>1009.000000</td>\n",
       "      <td>1009.000000</td>\n",
       "      <td>1009.000000</td>\n",
       "      <td>1009.000000</td>\n",
       "    </tr>\n",
       "    <tr>\n",
       "      <th>mean</th>\n",
       "      <td>25.353897</td>\n",
       "      <td>31.806119</td>\n",
       "      <td>0.179716</td>\n",
       "      <td>210.653877</td>\n",
       "      <td>224.051042</td>\n",
       "      <td>47.160849</td>\n",
       "      <td>46.948065</td>\n",
       "      <td>45.755955</td>\n",
       "      <td>46.669776</td>\n",
       "      <td>46.975862</td>\n",
       "      <td>34.105456</td>\n",
       "      <td>5.383970</td>\n",
       "      <td>183.151609</td>\n",
       "    </tr>\n",
       "    <tr>\n",
       "      <th>std</th>\n",
       "      <td>11.434404</td>\n",
       "      <td>12.325128</td>\n",
       "      <td>0.434551</td>\n",
       "      <td>62.051724</td>\n",
       "      <td>357.578962</td>\n",
       "      <td>33.978468</td>\n",
       "      <td>31.626107</td>\n",
       "      <td>30.656894</td>\n",
       "      <td>31.942840</td>\n",
       "      <td>32.065830</td>\n",
       "      <td>31.007751</td>\n",
       "      <td>0.018740</td>\n",
       "      <td>166.299019</td>\n",
       "    </tr>\n",
       "    <tr>\n",
       "      <th>min</th>\n",
       "      <td>12.075478</td>\n",
       "      <td>10.648168</td>\n",
       "      <td>0.000000</td>\n",
       "      <td>1.577505</td>\n",
       "      <td>-0.838326</td>\n",
       "      <td>19.737124</td>\n",
       "      <td>21.188662</td>\n",
       "      <td>20.738694</td>\n",
       "      <td>20.615538</td>\n",
       "      <td>20.744964</td>\n",
       "      <td>1.574978</td>\n",
       "      <td>5.351294</td>\n",
       "      <td>8.485232</td>\n",
       "    </tr>\n",
       "    <tr>\n",
       "      <th>25%</th>\n",
       "      <td>16.958010</td>\n",
       "      <td>20.022914</td>\n",
       "      <td>0.000000</td>\n",
       "      <td>194.261080</td>\n",
       "      <td>-0.132088</td>\n",
       "      <td>23.854884</td>\n",
       "      <td>25.240518</td>\n",
       "      <td>24.739016</td>\n",
       "      <td>24.581928</td>\n",
       "      <td>24.766238</td>\n",
       "      <td>2.657715</td>\n",
       "      <td>5.364468</td>\n",
       "      <td>14.354230</td>\n",
       "    </tr>\n",
       "    <tr>\n",
       "      <th>50%</th>\n",
       "      <td>19.883582</td>\n",
       "      <td>34.883796</td>\n",
       "      <td>0.000000</td>\n",
       "      <td>212.511440</td>\n",
       "      <td>1.765152</td>\n",
       "      <td>27.453532</td>\n",
       "      <td>28.789080</td>\n",
       "      <td>28.103806</td>\n",
       "      <td>27.971720</td>\n",
       "      <td>28.191964</td>\n",
       "      <td>51.296516</td>\n",
       "      <td>5.391468</td>\n",
       "      <td>276.001580</td>\n",
       "    </tr>\n",
       "    <tr>\n",
       "      <th>75%</th>\n",
       "      <td>32.720150</td>\n",
       "      <td>42.213908</td>\n",
       "      <td>0.000000</td>\n",
       "      <td>231.046760</td>\n",
       "      <td>285.773400</td>\n",
       "      <td>66.314392</td>\n",
       "      <td>64.865556</td>\n",
       "      <td>65.286376</td>\n",
       "      <td>66.753692</td>\n",
       "      <td>66.126504</td>\n",
       "      <td>63.549232</td>\n",
       "      <td>5.399327</td>\n",
       "      <td>341.081680</td>\n",
       "    </tr>\n",
       "    <tr>\n",
       "      <th>max</th>\n",
       "      <td>49.631508</td>\n",
       "      <td>51.489112</td>\n",
       "      <td>2.933334</td>\n",
       "      <td>385.630880</td>\n",
       "      <td>1132.128400</td>\n",
       "      <td>116.766760</td>\n",
       "      <td>111.630940</td>\n",
       "      <td>109.622220</td>\n",
       "      <td>111.680800</td>\n",
       "      <td>111.628120</td>\n",
       "      <td>81.778936</td>\n",
       "      <td>5.407162</td>\n",
       "      <td>438.556840</td>\n",
       "    </tr>\n",
       "  </tbody>\n",
       "</table>\n",
       "</div>"
      ],
      "text/plain": [
       "          Air_Temp  Relative_Humidity   Wind_Speed  Wind_Direction  \\\n",
       "count  1009.000000        1009.000000  1009.000000     1009.000000   \n",
       "mean     25.353897          31.806119     0.179716      210.653877   \n",
       "std      11.434404          12.325128     0.434551       62.051724   \n",
       "min      12.075478          10.648168     0.000000        1.577505   \n",
       "25%      16.958010          20.022914     0.000000      194.261080   \n",
       "50%      19.883582          34.883796     0.000000      212.511440   \n",
       "75%      32.720150          42.213908     0.000000      231.046760   \n",
       "max      49.631508          51.489112     2.933334      385.630880   \n",
       "\n",
       "       Solar_Radiation        RTD_1        RTD_2        RTD_3        RTD_4  \\\n",
       "count      1009.000000  1009.000000  1009.000000  1009.000000  1009.000000   \n",
       "mean        224.051042    47.160849    46.948065    45.755955    46.669776   \n",
       "std         357.578962    33.978468    31.626107    30.656894    31.942840   \n",
       "min          -0.838326    19.737124    21.188662    20.738694    20.615538   \n",
       "25%          -0.132088    23.854884    25.240518    24.739016    24.581928   \n",
       "50%           1.765152    27.453532    28.789080    28.103806    27.971720   \n",
       "75%         285.773400    66.314392    64.865556    65.286376    66.753692   \n",
       "max        1132.128400   116.766760   111.630940   109.622220   111.680800   \n",
       "\n",
       "             RTD_5  Array_Voltage  Array_Current  Power_Generated  \n",
       "count  1009.000000    1009.000000    1009.000000      1009.000000  \n",
       "mean     46.975862      34.105456       5.383970       183.151609  \n",
       "std      32.065830      31.007751       0.018740       166.299019  \n",
       "min      20.744964       1.574978       5.351294         8.485232  \n",
       "25%      24.766238       2.657715       5.364468        14.354230  \n",
       "50%      28.191964      51.296516       5.391468       276.001580  \n",
       "75%      66.126504      63.549232       5.399327       341.081680  \n",
       "max     111.628120      81.778936       5.407162       438.556840  "
      ]
     },
     "execution_count": 197,
     "metadata": {},
     "output_type": "execute_result"
    }
   ],
   "source": [
    "solar_power.describe()"
   ]
  },
  {
   "cell_type": "code",
   "execution_count": 198,
   "id": "967b0948",
   "metadata": {},
   "outputs": [
    {
     "data": {
      "text/plain": [
       "Timestamp             object\n",
       "Air_Temp             float64\n",
       "Relative_Humidity    float64\n",
       "Wind_Speed           float64\n",
       "Wind_Direction       float64\n",
       "Solar_Radiation      float64\n",
       "RTD_1                float64\n",
       "RTD_2                float64\n",
       "RTD_3                float64\n",
       "RTD_4                float64\n",
       "RTD_5                float64\n",
       "Array_Voltage        float64\n",
       "Array_Current        float64\n",
       "Power_Generated      float64\n",
       "dtype: object"
      ]
     },
     "execution_count": 198,
     "metadata": {},
     "output_type": "execute_result"
    }
   ],
   "source": [
    "solar_power.dtypes"
   ]
  },
  {
   "cell_type": "code",
   "execution_count": 199,
   "id": "ff920db1",
   "metadata": {},
   "outputs": [
    {
     "data": {
      "text/plain": [
       "Timestamp            0\n",
       "Air_Temp             0\n",
       "Relative_Humidity    0\n",
       "Wind_Speed           0\n",
       "Wind_Direction       0\n",
       "Solar_Radiation      0\n",
       "RTD_1                0\n",
       "RTD_2                0\n",
       "RTD_3                0\n",
       "RTD_4                0\n",
       "RTD_5                0\n",
       "Array_Voltage        0\n",
       "Array_Current        0\n",
       "Power_Generated      0\n",
       "dtype: int64"
      ]
     },
     "execution_count": 199,
     "metadata": {},
     "output_type": "execute_result"
    }
   ],
   "source": [
    "# Check for missing values in dataset\n",
    "solar_power.isnull()\n",
    "solar_power.isnull().sum()"
   ]
  },
  {
   "cell_type": "code",
   "execution_count": 200,
   "id": "8274ec98",
   "metadata": {},
   "outputs": [
    {
     "name": "stdout",
     "output_type": "stream",
     "text": [
      "<class 'pandas.core.frame.DataFrame'>\n",
      "RangeIndex: 1009 entries, 0 to 1008\n",
      "Data columns (total 14 columns):\n",
      " #   Column             Non-Null Count  Dtype  \n",
      "---  ------             --------------  -----  \n",
      " 0   Timestamp          1009 non-null   object \n",
      " 1   Air_Temp           1009 non-null   float64\n",
      " 2   Relative_Humidity  1009 non-null   float64\n",
      " 3   Wind_Speed         1009 non-null   float64\n",
      " 4   Wind_Direction     1009 non-null   float64\n",
      " 5   Solar_Radiation    1009 non-null   float64\n",
      " 6   RTD_1              1009 non-null   float64\n",
      " 7   RTD_2              1009 non-null   float64\n",
      " 8   RTD_3              1009 non-null   float64\n",
      " 9   RTD_4              1009 non-null   float64\n",
      " 10  RTD_5              1009 non-null   float64\n",
      " 11  Array_Voltage      1009 non-null   float64\n",
      " 12  Array_Current      1009 non-null   float64\n",
      " 13  Power_Generated    1009 non-null   float64\n",
      "dtypes: float64(13), object(1)\n",
      "memory usage: 110.5+ KB\n"
     ]
    }
   ],
   "source": [
    "solar_power.info()"
   ]
  },
  {
   "cell_type": "code",
   "execution_count": 201,
   "id": "aa001e9a",
   "metadata": {},
   "outputs": [
    {
     "data": {
      "text/plain": [
       "<Axes: >"
      ]
     },
     "execution_count": 201,
     "metadata": {},
     "output_type": "execute_result"
    },
    {
     "data": {
      "image/png": "[encoded data removed]",
      "text/plain": [
       "<Figure size 640x480 with 1 Axes>"
      ]
     },
     "metadata": {},
     "output_type": "display_data"
    }
   ],
   "source": [
    "solar_power.plot()"
   ]
  },
  {
   "cell_type": "code",
   "execution_count": 202,
   "id": "2703cb1f",
   "metadata": {},
   "outputs": [],
   "source": [
    "from sklearn.model_selection import train_test_split\n",
    "from sklearn.linear_model import LinearRegression\n",
    "from sklearn.preprocessing import StandardScaler\n",
    "from sklearn.ensemble import RandomForestRegressor, GradientBoostingRegressor\n",
    "from sklearn.metrics import mean_absolute_error, mean_squared_error, r2_score"
   ]
  },
  {
   "cell_type": "code",
   "execution_count": 203,
   "id": "08a5a313",
   "metadata": {},
   "outputs": [
    {
     "name": "stdout",
     "output_type": "stream",
     "text": [
      "Requirement already satisfied: xgboost in c:\\users\\pakhi sharma\\anaconda3\\lib\\site-packages (3.0.1)\n",
      "Requirement already satisfied: numpy in c:\\users\\pakhi sharma\\anaconda3\\lib\\site-packages (from xgboost) (1.26.4)\n",
      "Requirement already satisfied: scipy in c:\\users\\pakhi sharma\\anaconda3\\lib\\site-packages (from xgboost) (1.13.1)\n",
      "Note: you may need to restart the kernel to use updated packages.\n"
     ]
    }
   ],
   "source": [
    "%pip install xgboost"
   ]
  },
  {
   "cell_type": "code",
   "execution_count": 204,
   "id": "36f96e1d",
   "metadata": {},
   "outputs": [],
   "source": [
    "from xgboost import XGBRegressor"
   ]
  },
  {
   "cell_type": "code",
   "execution_count": 205,
   "id": "66338c88",
   "metadata": {},
   "outputs": [
    {
     "name": "stdout",
     "output_type": "stream",
     "text": [
      "            Timestamp   Air_Temp  Relative_Humidity  Wind_Speed  \\\n",
      "0 2022-04-27 15:32:00  43.349172          12.790256    0.533333   \n",
      "1 2022-04-27 15:34:00  43.433980          11.468986    1.866667   \n",
      "2 2022-04-27 15:36:00  43.286580          11.047298    2.866667   \n",
      "3 2022-04-27 15:38:00  43.523020          12.058292    0.000000   \n",
      "4 2022-04-27 15:40:00  43.728656          10.722330    2.266667   \n",
      "\n",
      "   Wind_Direction  Solar_Radiation       RTD_1      RTD_2      RTD_3  \\\n",
      "0      118.786620        707.53384   98.289640  94.283552  89.002824   \n",
      "1       84.681408        710.46328   98.377480  94.177872  89.334664   \n",
      "2       40.807156        695.51016   97.868064  93.703480  88.844592   \n",
      "3       66.390848        696.24472  101.470960  97.112320  91.963472   \n",
      "4        2.127408        674.05752  101.664240  97.253520  91.980872   \n",
      "\n",
      "       RTD_4      RTD_5  Array_Voltage  Array_Current  Power_Generated  Hour  \\\n",
      "0  93.334288  94.142984      80.178232       5.364869        430.14572    15   \n",
      "1  93.633208  94.107592      80.266728       5.366041        430.71452    15   \n",
      "2  92.982568  93.650656      80.187416       5.365501        430.24568    15   \n",
      "3  96.146384  97.147776      80.727760       5.364512        433.06504    15   \n",
      "4  96.110968  97.341296      80.500312       5.365144        431.89576    15   \n",
      "\n",
      "   Month  \n",
      "0      4  \n",
      "1      4  \n",
      "2      4  \n",
      "3      4  \n",
      "4      4  \n"
     ]
    },
    {
     "name": "stderr",
     "output_type": "stream",
     "text": [
      "C:\\Users\\Pakhi Sharma\\AppData\\Local\\Temp\\ipykernel_30260\\3615059819.py:2: UserWarning: Parsing dates in %d-%m-%Y %H:%M format when dayfirst=False (the default) was specified. Pass `dayfirst=True` or specify a format to silence this warning.\n",
      "  solar_power['Timestamp']= pd.to_datetime(solar_power['Timestamp'])\n"
     ]
    }
   ],
   "source": [
    "# Preprocessing the data. This helps the model learn time-based patterns in solar power generation (e.g., power increases around noon).\n",
    "solar_power['Timestamp']= pd.to_datetime(solar_power['Timestamp'])\n",
    "solar_power['Hour']= solar_power['Timestamp'].dt.hour\n",
    "solar_power['Month']= solar_power['Timestamp'].dt.month\n",
    "print(solar_power.head())"
   ]
  },
  {
   "cell_type": "code",
   "execution_count": 206,
   "id": "c1361286",
   "metadata": {},
   "outputs": [],
   "source": [
    "# Select features and target\n",
    "\n",
    "features = ['Timestamp','Air_Temp', 'Relative_Humidity', 'Wind_Speed', 'Wind_Direction',  'Solar_Radiation', 'RTD_1',\n",
    "            'RTD_2', 'RTD_3' ,'RTD_4', 'RTD_5',  'Array_Voltage', 'Array_Current' ,'Hour','Month']\n",
    "target = 'Power_Generated'\n",
    "\n",
    "X = solar_power[features]   # Features (input variables)  # Target variable (what you want to predict)\n",
    "y = solar_power[target]\n",
    "\n",
    "#Split the data : Training Set (80%): Used to train the model & Test Set (20%): Used to evaluate how well the model performs on unseen data.\n",
    "# X_train, X_test, y_train, y_test = train_test_split(X, y, test_size=0.2, random_state=42)\n",
    "# test_size=0.2,  # 20% of data goes to test set, 80% to training set\n",
    "# Without random_state: Every time you run the split, you might get a different split which could lead to slightly different model results each time.\n",
    "# With random_state=42 (or any fixed number): You get the same split every time, making your results reproducible."
   ]
  },
  {
   "cell_type": "code",
   "execution_count": 207,
   "id": "29e7b945",
   "metadata": {},
   "outputs": [
    {
     "name": "stdout",
     "output_type": "stream",
     "text": [
      "Timestamp            datetime64[ns]\n",
      "Air_Temp                    float64\n",
      "Relative_Humidity           float64\n",
      "Wind_Speed                  float64\n",
      "Wind_Direction              float64\n",
      "Solar_Radiation             float64\n",
      "RTD_1                       float64\n",
      "RTD_2                       float64\n",
      "RTD_3                       float64\n",
      "RTD_4                       float64\n",
      "RTD_5                       float64\n",
      "Array_Voltage               float64\n",
      "Array_Current               float64\n",
      "Hour                          int32\n",
      "Month                         int32\n",
      "dtype: object\n"
     ]
    }
   ],
   "source": [
    "print(X.dtypes)"
   ]
  },
  {
   "cell_type": "code",
   "execution_count": 208,
   "id": "31c67649",
   "metadata": {},
   "outputs": [
    {
     "name": "stdout",
     "output_type": "stream",
     "text": [
      "Air_Temp             float64\n",
      "Relative_Humidity    float64\n",
      "Wind_Speed           float64\n",
      "Wind_Direction       float64\n",
      "Solar_Radiation      float64\n",
      "RTD_1                float64\n",
      "RTD_2                float64\n",
      "RTD_3                float64\n",
      "RTD_4                float64\n",
      "RTD_5                float64\n",
      "Array_Voltage        float64\n",
      "Array_Current        float64\n",
      "Hour                   int32\n",
      "Month                  int32\n",
      "dtype: object\n"
     ]
    }
   ],
   "source": [
    "# Drop the 'Timestamp' column before splitting and scaling as datetime64[ns] can't be interpreted numerically by models.\n",
    "X = X.drop(columns=['Timestamp'], errors='ignore')\n",
    "print(X.dtypes)\n"
   ]
  },
  {
   "cell_type": "code",
   "execution_count": 209,
   "id": "ec0881b2",
   "metadata": {},
   "outputs": [],
   "source": [
    "# Split the data\n",
    "from sklearn.model_selection import train_test_split\n",
    "\n",
    "X_train, X_test, y_train, y_test = train_test_split(X, y, test_size=0.2, random_state=42)\n",
    "\n",
    "# Standardize the features\n",
    "from sklearn.preprocessing import StandardScaler\n",
    "\n",
    "scaler = StandardScaler()\n",
    "X_train_scaled = scaler.fit_transform(X_train)\n",
    "X_test_scaled = scaler.transform(X_test)\n",
    "\n",
    "\n",
    "\n",
    "# StandardScaler(): standardizes features and makes your data follow a normal distribution with: Mean = 0 & Standard deviation = 1 \n",
    "# so that, no one feature dominates because of units\n",
    "\n",
    "# scaler.fit_transform(X_train): fit calculates the mean and standard deviation of each feature only on the training data.\n",
    "# The result is a new version of X_train where all features are scaled.\n",
    "\n",
    "# scaler.transform(X_test): Uses the same mean and std learned from X_train to transform X_test.\n",
    "# Never fit on test data — this would leak information and break model generalization.\n"
   ]
  },
  {
   "cell_type": "code",
   "execution_count": 210,
   "id": "331e7fb2",
   "metadata": {},
   "outputs": [],
   "source": [
    "\n",
    "# Evaluation metrics\n",
    "def evaluate_model(model, y_true, y_pred):\n",
    "    # y taken as it is targeted value, we are taking its true and predicted values.\n",
    "    print(f\"\\n{model} Results:\")\n",
    "    print(\"MAE:\", mean_absolute_error(y_true, y_pred))\n",
    "    print(\"RMSE:\", np.sqrt(mean_squared_error(y_true, y_pred)))\n",
    "    print(\"R2 Score:\", r2_score(y_true, y_pred))\n",
    "    return {\"Model\": model, \"MAE\": mean_absolute_error(y_true, y_pred), \"RMSE\": np.sqrt(mean_squared_error(y_true, y_pred)), \n",
    "            \"R2\": r2_score(y_true, y_pred)}"
   ]
  },
  {
   "cell_type": "markdown",
   "id": "8335db84",
   "metadata": {},
   "source": [
    "Train Models"
   ]
  },
  {
   "cell_type": "code",
   "execution_count": 211,
   "id": "10a9d850",
   "metadata": {},
   "outputs": [
    {
     "name": "stdout",
     "output_type": "stream",
     "text": [
      "\n",
      "Linear Regression Results:\n",
      "MAE: 0.13259154501254383\n",
      "RMSE: 0.1557992122116297\n",
      "R2 Score: 0.9999990906171012\n"
     ]
    },
    {
     "data": {
      "text/plain": [
       "{'Model': 'Linear Regression',\n",
       " 'MAE': 0.13259154501254383,\n",
       " 'RMSE': 0.1557992122116297,\n",
       " 'R2': 0.9999990906171012}"
      ]
     },
     "execution_count": 211,
     "metadata": {},
     "output_type": "execute_result"
    }
   ],
   "source": [
    "# Linear Regression\n",
    "lr = LinearRegression()\n",
    "lr.fit(X_train_scaled, y_train)\n",
    "# .fit(...): Trains the model using scaled training data.\n",
    "lr_pred = lr.predict(X_test_scaled)\n",
    "# .predict(...): Predicts output on scaled test data.\n",
    "evaluate_model(\"Linear Regression\", y_test, lr_pred)\n",
    "# lr_model = LinearRegression()\n",
    "# name, model, y_pred, mae, rmse, r2 = evaluate_model(\"Linear Regression\", lr_model, X_train_scaled, y_train, X_test_scaled, y_test)\n",
    "# # predictions[name] = y_pred\n",
    "# # results.append({'Model': name, 'MAE': mae, 'RMSE': rmse, 'R2': r2})\n"
   ]
  },
  {
   "cell_type": "code",
   "execution_count": 212,
   "id": "ed7b3f73",
   "metadata": {},
   "outputs": [
    {
     "name": "stdout",
     "output_type": "stream",
     "text": [
      "\n",
      "Random Forests Results:\n",
      "MAE: 0.34461949099010797\n",
      "RMSE: 1.4409381879822194\n",
      "R2 Score: 0.9999222130092699\n"
     ]
    },
    {
     "data": {
      "text/plain": [
       "{'Model': 'Random Forests',\n",
       " 'MAE': 0.34461949099010797,\n",
       " 'RMSE': 1.4409381879822194,\n",
       " 'R2': 0.9999222130092699}"
      ]
     },
     "execution_count": 212,
     "metadata": {},
     "output_type": "execute_result"
    }
   ],
   "source": [
    "# Random Forests\n",
    "rf= RandomForestRegressor()\n",
    "rf_model = RandomForestRegressor(n_estimators=100, random_state=42)\n",
    "# n_estimators=100: This means the forest will consist of 100 decision trees.\n",
    "rf.fit(X_train, y_train)\n",
    "rf_pred = rf.predict(X_test)\n",
    "evaluate_model(\"Random Forests\", y_test, rf_pred)"
   ]
  },
  {
   "cell_type": "code",
   "execution_count": 213,
   "id": "b946fd56",
   "metadata": {},
   "outputs": [
    {
     "name": "stdout",
     "output_type": "stream",
     "text": [
      "\n",
      "XGBoost Results:\n",
      "MAE: 0.481937866483178\n",
      "RMSE: 1.1469247491070926\n",
      "R2 Score: 0.9999507182505023\n"
     ]
    },
    {
     "data": {
      "text/plain": [
       "{'Model': 'XGBoost',\n",
       " 'MAE': 0.481937866483178,\n",
       " 'RMSE': 1.1469247491070926,\n",
       " 'R2': 0.9999507182505023}"
      ]
     },
     "execution_count": 213,
     "metadata": {},
     "output_type": "execute_result"
    }
   ],
   "source": [
    "# XG Boost\n",
    "xgb = XGBRegressor(n_estimators=100, learning_rate=0.1, max_depth=5)\n",
    "# n_estimators=100: Number of boosting rounds (trees).  max_depth=5: Maximum depth of each tree.\n",
    "# learning_rate=0.1: Controls how fast the model learns (small = slower but safer learning).\n",
    "xgb.fit(X_train, y_train)\n",
    "xgb_pred = xgb.predict(X_test)\n",
    "evaluate_model(\"XGBoost\", y_test, xgb_pred)"
   ]
  },
  {
   "cell_type": "code",
   "execution_count": 214,
   "id": "ea775ee5",
   "metadata": {},
   "outputs": [
    {
     "name": "stdout",
     "output_type": "stream",
     "text": [
      "\n",
      "Gradient Boosting Results:\n",
      "MAE: 0.3029140798933805\n",
      "RMSE: 0.8376456451441868\n",
      "R2 Score: 0.9999737132473783\n"
     ]
    },
    {
     "data": {
      "text/plain": [
       "{'Model': 'Gradient Boosting',\n",
       " 'MAE': 0.3029140798933805,\n",
       " 'RMSE': 0.8376456451441868,\n",
       " 'R2': 0.9999737132473783}"
      ]
     },
     "execution_count": 214,
     "metadata": {},
     "output_type": "execute_result"
    }
   ],
   "source": [
    "# Gradient Boosting\n",
    "gbr = GradientBoostingRegressor(n_estimators=100, learning_rate=0.1, max_depth=3, random_state=42)\n",
    "gbr.fit(X_train, y_train)\n",
    "gbr_pred = gbr.predict(X_test)\n",
    "evaluate_model(\"Gradient Boosting\", y_test, gbr_pred)"
   ]
  },
  {
   "cell_type": "code",
   "execution_count": 215,
   "id": "77388fd3",
   "metadata": {},
   "outputs": [
    {
     "name": "stdout",
     "output_type": "stream",
     "text": [
      "\n",
      "SVR Results:\n",
      "MAE: 58.151564068403594\n",
      "RMSE: 66.62076705565462\n",
      "R2 Score: 0.833721719158085\n"
     ]
    },
    {
     "data": {
      "text/plain": [
       "{'Model': 'SVR',\n",
       " 'MAE': 58.151564068403594,\n",
       " 'RMSE': 66.62076705565462,\n",
       " 'R2': 0.833721719158085}"
      ]
     },
     "execution_count": 215,
     "metadata": {},
     "output_type": "execute_result"
    }
   ],
   "source": [
    "# SVR(Support Vector Regressor)\n",
    "from sklearn.svm import SVR\n",
    "\n",
    "svr = SVR(kernel='rbf')\n",
    "# kernel='rbf': This specifies the kernel type to be used in the SVR algorithm. \n",
    "svr.fit(X_train_scaled, y_train)\n",
    "svr_pred = svr.predict(X_test_scaled)\n",
    "evaluate_model(\"SVR\", y_test, svr_pred)"
   ]
  },
  {
   "cell_type": "code",
   "execution_count": 216,
   "id": "d61a85f2",
   "metadata": {},
   "outputs": [
    {
     "name": "stdout",
     "output_type": "stream",
     "text": [
      "               Model      MAE     RMSE        R2\n",
      "0  Gradient Boosting   0.3029   0.8376  0.999970\n",
      "1                SVR  58.1500  66.6200  0.833700\n",
      "2  Linear Regression   0.1326   0.1558  0.999999\n",
      "3      Random Forest   0.3829   1.7201  0.999889\n",
      "4            XGBoost   0.4819   1.1469  0.999951\n"
     ]
    },
    {
     "name": "stderr",
     "output_type": "stream",
     "text": [
      "C:\\Users\\Pakhi Sharma\\AppData\\Local\\Temp\\ipykernel_30260\\2567585430.py:23: UserWarning: set_ticklabels() should only be used with a fixed number of ticks, i.e. after set_ticks() or using a FixedLocator.\n",
      "  axes[0].set_xticklabels(df_results['Model'], rotation=45, ha='right')\n",
      "C:\\Users\\Pakhi Sharma\\AppData\\Local\\Temp\\ipykernel_30260\\2567585430.py:29: UserWarning: set_ticklabels() should only be used with a fixed number of ticks, i.e. after set_ticks() or using a FixedLocator.\n",
      "  axes[1].set_xticklabels(df_results['Model'], rotation=45, ha='right')\n",
      "C:\\Users\\Pakhi Sharma\\AppData\\Local\\Temp\\ipykernel_30260\\2567585430.py:36: UserWarning: set_ticklabels() should only be used with a fixed number of ticks, i.e. after set_ticks() or using a FixedLocator.\n",
      "  axes[2].set_xticklabels(df_results['Model'], rotation=45, ha='right')\n"
     ]
    },
    {
     "data": {
      "image/png": "[encoded data removed]",
      "text/plain": [
       "<Figure size 1800x500 with 3 Axes>"
      ]
     },
     "metadata": {},
     "output_type": "display_data"
    }
   ],
   "source": [
    "import matplotlib.pyplot as plt\n",
    "\n",
    "results = [\n",
    "    {'Model': 'Gradient Boosting', 'MAE': 0.3029, 'RMSE': 0.8376, 'R2': 0.99997},\n",
    "    {'Model': 'SVR', 'MAE': 58.15, 'RMSE': 66.62, 'R2': 0.8337},\n",
    "    {'Model': 'Linear Regression', 'MAE': 0.1326, 'RMSE': 0.1558, 'R2': 0.999999},\n",
    "    {'Model': 'Random Forest', 'MAE': 0.3829, 'RMSE': 1.7201, 'R2': 0.999889},\n",
    "    {'Model': 'XGBoost', 'MAE': 0.4819, 'RMSE': 1.1469, 'R2': 0.999951}\n",
    "]\n",
    "\n",
    "# Convert to DataFrame for easy manipulation\n",
    "df_results = pd.DataFrame(results)\n",
    "\n",
    "print(df_results)\n",
    "\n",
    "# Plot comparison of MAE, RMSE, and R2 scores\n",
    "fig, axes = plt.subplots(1, 3, figsize=(18, 5))\n",
    "\n",
    "# MAE bar plot\n",
    "axes[0].bar(df_results['Model'], df_results['MAE'], color='skyblue')\n",
    "axes[0].set_title('MAE Comparison')\n",
    "axes[0].set_ylabel('MAE')\n",
    "axes[0].set_xticklabels(df_results['Model'], rotation=45, ha='right')\n",
    "\n",
    "# RMSE bar plot\n",
    "axes[1].bar(df_results['Model'], df_results['RMSE'], color='lightgreen')\n",
    "axes[1].set_title('RMSE Comparison')\n",
    "axes[1].set_ylabel('RMSE')\n",
    "axes[1].set_xticklabels(df_results['Model'], rotation=45, ha='right')\n",
    "\n",
    "# R2 bar plot\n",
    "axes[2].bar(df_results['Model'], df_results['R2'], color='salmon')\n",
    "axes[2].set_title('R2 Score Comparison')\n",
    "axes[2].set_ylabel('R2 Score')\n",
    "axes[2].set_ylim(0, 1.05)\n",
    "axes[2].set_xticklabels(df_results['Model'], rotation=45, ha='right')\n",
    "\n",
    "plt.tight_layout()\n",
    "plt.show()\n"
   ]
  },
  {
   "cell_type": "code",
   "execution_count": 217,
   "id": "18dc4ee7",
   "metadata": {},
   "outputs": [
    {
     "name": "stdout",
     "output_type": "stream",
     "text": [
      "Requirement already satisfied: tensorflow in c:\\users\\pakhi sharma\\anaconda3\\lib\\site-packages (2.19.0)\n",
      "Requirement already satisfied: absl-py>=1.0.0 in c:\\users\\pakhi sharma\\anaconda3\\lib\\site-packages (from tensorflow) (2.2.2)\n",
      "Requirement already satisfied: astunparse>=1.6.0 in c:\\users\\pakhi sharma\\anaconda3\\lib\\site-packages (from tensorflow) (1.6.3)\n",
      "Requirement already satisfied: flatbuffers>=24.3.25 in c:\\users\\pakhi sharma\\anaconda3\\lib\\site-packages (from tensorflow) (25.2.10)\n",
      "Requirement already satisfied: gast!=0.5.0,!=0.5.1,!=0.5.2,>=0.2.1 in c:\\users\\pakhi sharma\\anaconda3\\lib\\site-packages (from tensorflow) (0.6.0)\n",
      "Requirement already satisfied: google-pasta>=0.1.1 in c:\\users\\pakhi sharma\\anaconda3\\lib\\site-packages (from tensorflow) (0.2.0)\n",
      "Requirement already satisfied: libclang>=13.0.0 in c:\\users\\pakhi sharma\\anaconda3\\lib\\site-packages (from tensorflow) (18.1.1)\n",
      "Requirement already satisfied: opt-einsum>=2.3.2 in c:\\users\\pakhi sharma\\anaconda3\\lib\\site-packages (from tensorflow) (3.4.0)\n",
      "Requirement already satisfied: packaging in c:\\users\\pakhi sharma\\anaconda3\\lib\\site-packages (from tensorflow) (24.1)\n",
      "Requirement already satisfied: protobuf!=4.21.0,!=4.21.1,!=4.21.2,!=4.21.3,!=4.21.4,!=4.21.5,<6.0.0dev,>=3.20.3 in c:\\users\\pakhi sharma\\anaconda3\\lib\\site-packages (from tensorflow) (4.25.3)\n",
      "Requirement already satisfied: requests<3,>=2.21.0 in c:\\users\\pakhi sharma\\anaconda3\\lib\\site-packages (from tensorflow) (2.32.3)\n",
      "Requirement already satisfied: setuptools in c:\\users\\pakhi sharma\\anaconda3\\lib\\site-packages (from tensorflow) (75.1.0)\n",
      "Requirement already satisfied: six>=1.12.0 in c:\\users\\pakhi sharma\\anaconda3\\lib\\site-packages (from tensorflow) (1.16.0)\n",
      "Requirement already satisfied: termcolor>=1.1.0 in c:\\users\\pakhi sharma\\anaconda3\\lib\\site-packages (from tensorflow) (3.1.0)\n",
      "Requirement already satisfied: typing-extensions>=3.6.6 in c:\\users\\pakhi sharma\\anaconda3\\lib\\site-packages (from tensorflow) (4.11.0)\n",
      "Requirement already satisfied: wrapt>=1.11.0 in c:\\users\\pakhi sharma\\anaconda3\\lib\\site-packages (from tensorflow) (1.14.1)\n",
      "Requirement already satisfied: grpcio<2.0,>=1.24.3 in c:\\users\\pakhi sharma\\anaconda3\\lib\\site-packages (from tensorflow) (1.71.0)\n",
      "Requirement already satisfied: tensorboard~=2.19.0 in c:\\users\\pakhi sharma\\anaconda3\\lib\\site-packages (from tensorflow) (2.19.0)\n",
      "Requirement already satisfied: keras>=3.5.0 in c:\\users\\pakhi sharma\\anaconda3\\lib\\site-packages (from tensorflow) (3.10.0)\n",
      "Requirement already satisfied: numpy<2.2.0,>=1.26.0 in c:\\users\\pakhi sharma\\anaconda3\\lib\\site-packages (from tensorflow) (1.26.4)\n",
      "Requirement already satisfied: h5py>=3.11.0 in c:\\users\\pakhi sharma\\anaconda3\\lib\\site-packages (from tensorflow) (3.11.0)\n",
      "Requirement already satisfied: ml-dtypes<1.0.0,>=0.5.1 in c:\\users\\pakhi sharma\\anaconda3\\lib\\site-packages (from tensorflow) (0.5.1)\n",
      "Requirement already satisfied: wheel<1.0,>=0.23.0 in c:\\users\\pakhi sharma\\anaconda3\\lib\\site-packages (from astunparse>=1.6.0->tensorflow) (0.44.0)\n",
      "Requirement already satisfied: rich in c:\\users\\pakhi sharma\\anaconda3\\lib\\site-packages (from keras>=3.5.0->tensorflow) (13.7.1)\n",
      "Requirement already satisfied: namex in c:\\users\\pakhi sharma\\anaconda3\\lib\\site-packages (from keras>=3.5.0->tensorflow) (0.0.9)\n",
      "Requirement already satisfied: optree in c:\\users\\pakhi sharma\\anaconda3\\lib\\site-packages (from keras>=3.5.0->tensorflow) (0.15.0)\n",
      "Requirement already satisfied: charset-normalizer<4,>=2 in c:\\users\\pakhi sharma\\anaconda3\\lib\\site-packages (from requests<3,>=2.21.0->tensorflow) (3.3.2)\n",
      "Requirement already satisfied: idna<4,>=2.5 in c:\\users\\pakhi sharma\\anaconda3\\lib\\site-packages (from requests<3,>=2.21.0->tensorflow) (3.7)\n",
      "Requirement already satisfied: urllib3<3,>=1.21.1 in c:\\users\\pakhi sharma\\anaconda3\\lib\\site-packages (from requests<3,>=2.21.0->tensorflow) (2.2.3)\n",
      "Requirement already satisfied: certifi>=2017.4.17 in c:\\users\\pakhi sharma\\anaconda3\\lib\\site-packages (from requests<3,>=2.21.0->tensorflow) (2024.8.30)\n",
      "Requirement already satisfied: markdown>=2.6.8 in c:\\users\\pakhi sharma\\anaconda3\\lib\\site-packages (from tensorboard~=2.19.0->tensorflow) (3.4.1)\n",
      "Requirement already satisfied: tensorboard-data-server<0.8.0,>=0.7.0 in c:\\users\\pakhi sharma\\anaconda3\\lib\\site-packages (from tensorboard~=2.19.0->tensorflow) (0.7.2)\n",
      "Requirement already satisfied: werkzeug>=1.0.1 in c:\\users\\pakhi sharma\\anaconda3\\lib\\site-packages (from tensorboard~=2.19.0->tensorflow) (3.0.3)\n",
      "Requirement already satisfied: MarkupSafe>=2.1.1 in c:\\users\\pakhi sharma\\anaconda3\\lib\\site-packages (from werkzeug>=1.0.1->tensorboard~=2.19.0->tensorflow) (2.1.3)\n",
      "Requirement already satisfied: markdown-it-py>=2.2.0 in c:\\users\\pakhi sharma\\anaconda3\\lib\\site-packages (from rich->keras>=3.5.0->tensorflow) (2.2.0)\n",
      "Requirement already satisfied: pygments<3.0.0,>=2.13.0 in c:\\users\\pakhi sharma\\anaconda3\\lib\\site-packages (from rich->keras>=3.5.0->tensorflow) (2.15.1)\n",
      "Requirement already satisfied: mdurl~=0.1 in c:\\users\\pakhi sharma\\anaconda3\\lib\\site-packages (from markdown-it-py>=2.2.0->rich->keras>=3.5.0->tensorflow) (0.1.0)\n",
      "Note: you may need to restart the kernel to use updated packages.\n"
     ]
    }
   ],
   "source": [
    "%pip install tensorflow --upgrade"
   ]
  }
 ],
 "metadata": {
  "kernelspec": {
   "display_name": "base",
   "language": "python",
   "name": "python3"
  },
  "language_info": {
   "codemirror_mode": {
    "name": "ipython",
    "version": 3
   },
   "file_extension": ".py",
   "mimetype": "text/x-python",
   "name": "python",
   "nbconvert_exporter": "python",
   "pygments_lexer": "ipython3",
   "version": "3.12.7"
  }
 },
 "nbformat": 4,
 "nbformat_minor": 5
}
