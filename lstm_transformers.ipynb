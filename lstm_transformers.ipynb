{
 "cells": [
  {
   "cell_type": "code",
   "execution_count": 34,
   "id": "5822730e",
   "metadata": {},
   "outputs": [],
   "source": [
    "import numpy as np\n",
    "import pandas as pd\n",
    "import matplotlib.pyplot as plt\n",
    "from sklearn.preprocessing import MinMaxScaler\n",
    "from tensorflow.keras.models import Sequential\n",
    "from tensorflow.keras.layers import LSTM, Dense"
   ]
  },
  {
   "cell_type": "code",
   "execution_count": 35,
   "id": "823cd70d",
   "metadata": {},
   "outputs": [
    {
     "name": "stderr",
     "output_type": "stream",
     "text": [
      "C:\\Users\\Pakhi Sharma\\AppData\\Local\\Temp\\ipykernel_21128\\1495987235.py:1: UserWarning: Parsing dates in %d-%m-%Y %H:%M format when dayfirst=False (the default) was specified. Pass `dayfirst=True` or specify a format to silence this warning.\n",
      "  solar_power= pd.read_csv(\"solar_data.csv\", parse_dates=True, index_col='Timestamp')\n"
     ]
    }
   ],
   "source": [
    "solar_power= pd.read_csv(\"solar_data.csv\", parse_dates=True, index_col='Timestamp')\n",
    "\n",
    "data = solar_power[['Power_Generated']]\n",
    "\n",
    "# Normalize the data\n",
    "scaler = MinMaxScaler()\n",
    "data_scaled = scaler.fit_transform(data)"
   ]
  },
  {
   "cell_type": "code",
   "execution_count": 36,
   "id": "db9ab1b3",
   "metadata": {},
   "outputs": [
    {
     "name": "stdout",
     "output_type": "stream",
     "text": [
      "datetime64[ns]\n"
     ]
    }
   ],
   "source": [
    "solar_power.head()\n",
    "print(solar_power.index.dtype)\n",
    "from sklearn.metrics import mean_absolute_error, mean_squared_error, r2_score"
   ]
  },
  {
   "cell_type": "code",
   "execution_count": 37,
   "id": "3599f665",
   "metadata": {},
   "outputs": [
    {
     "name": "stdout",
     "output_type": "stream",
     "text": [
      "<class 'pandas.core.frame.DataFrame'>\n",
      "DatetimeIndex: 1009 entries, 2022-04-27 15:32:00 to 2022-04-29 01:08:00\n",
      "Data columns (total 7 columns):\n",
      " #   Column             Non-Null Count  Dtype  \n",
      "---  ------             --------------  -----  \n",
      " 0   Solar_Radiation    1009 non-null   float64\n",
      " 1   Air_Temp           1009 non-null   float64\n",
      " 2   Relative_Humidity  1009 non-null   float64\n",
      " 3   Wind_Speed         1009 non-null   float64\n",
      " 4   Wind_Direction     1009 non-null   float64\n",
      " 5   Array_Voltage      1009 non-null   float64\n",
      " 6   Array_Current      1009 non-null   float64\n",
      "dtypes: float64(7)\n",
      "memory usage: 63.1 KB\n"
     ]
    }
   ],
   "source": [
    "# Preprocessing\n",
    "features = solar_power[['Solar_Radiation', 'Air_Temp', 'Relative_Humidity','Wind_Speed','Wind_Direction','Array_Voltage','Array_Current']]\n",
    "features.info()\n",
    "target= 'Power_Generated'\n",
    "scaler = MinMaxScaler()\n",
    "# MinMaxScaler scales each feature to the range [0, 1].\n",
    "scaled_data = scaler.fit_transform(features)"
   ]
  },
  {
   "cell_type": "markdown",
   "id": "49268b3c",
   "metadata": {},
   "source": [
    "Create Time Series Sequences\n",
    "\n",
    "SEQ_LEN specifies how many past time steps to use to predict the next time step\n"
   ]
  },
  {
   "cell_type": "code",
   "execution_count": 38,
   "id": "b62811dc",
   "metadata": {},
   "outputs": [],
   "source": [
    "def create_sequences(data, seq_length):\n",
    "    X, y = [], []\n",
    "    for i in range(len(data) - seq_length):\n",
    "        X.append(data[i:i+seq_length, :-1])  # All features except the target\n",
    "        y.append(data[i+seq_length, -1])     # Target column: Power_Generated\n",
    "    return np.array(X), np.array(y)\n",
    "\n",
    "SEQ_LEN = 13 # e.g., use past 13 time steps to predict the next\n",
    "\n",
    "X, y = create_sequences(scaled_data, SEQ_LEN) # Create overlapping time sequences for time series prediction.\n",
    "# Split into train/test\n",
    "split = int(0.8 * len(X))\n",
    "X_train, X_test = X[:split], X[split:]\n",
    "y_train, y_test = y[:split], y[split:]\n",
    "\n"
   ]
  },
  {
   "cell_type": "markdown",
   "id": "082a6e82",
   "metadata": {},
   "source": [
    "You add an LSTM layer: 64: Number of LSTM units (i.e., neurons in this layer).\n",
    "return_sequences=False: Only the last output in the output sequence will be returned, not the full sequence.  \n",
    "input_shape=(X_train.shape[1], X_train.shape[2]): Shape of input data: X_train.shape[1] → number of time steps (sequence length)\n",
    "X_train.shape[2] → number of features at each step"
   ]
  },
  {
   "cell_type": "code",
   "execution_count": 39,
   "id": "91eaa650",
   "metadata": {},
   "outputs": [
    {
     "name": "stderr",
     "output_type": "stream",
     "text": [
      "c:\\Users\\Pakhi Sharma\\anaconda3\\Lib\\site-packages\\keras\\src\\layers\\rnn\\rnn.py:199: UserWarning: Do not pass an `input_shape`/`input_dim` argument to a layer. When using Sequential models, prefer using an `Input(shape)` object as the first layer in the model instead.\n",
      "  super().__init__(**kwargs)\n"
     ]
    },
    {
     "data": {
      "text/html": [
       "<pre style=\"white-space:pre;overflow-x:auto;line-height:normal;font-family:Menlo,'DejaVu Sans Mono',consolas,'Courier New',monospace\"><span style=\"font-weight: bold\">Model: \"sequential_6\"</span>\n",
       "</pre>\n"
      ],
      "text/plain": [
       "\u001b[1mModel: \"sequential_6\"\u001b[0m\n"
      ]
     },
     "metadata": {},
     "output_type": "display_data"
    },
    {
     "data": {
      "text/html": [
       "<pre style=\"white-space:pre;overflow-x:auto;line-height:normal;font-family:Menlo,'DejaVu Sans Mono',consolas,'Courier New',monospace\">┏━━━━━━━━━━━━━━━━━━━━━━━━━━━━━━━━━┳━━━━━━━━━━━━━━━━━━━━━━━━┳━━━━━━━━━━━━━━━┓\n",
       "┃<span style=\"font-weight: bold\"> Layer (type)                    </span>┃<span style=\"font-weight: bold\"> Output Shape           </span>┃<span style=\"font-weight: bold\">       Param # </span>┃\n",
       "┡━━━━━━━━━━━━━━━━━━━━━━━━━━━━━━━━━╇━━━━━━━━━━━━━━━━━━━━━━━━╇━━━━━━━━━━━━━━━┩\n",
       "│ lstm_3 (<span style=\"color: #0087ff; text-decoration-color: #0087ff\">LSTM</span>)                   │ (<span style=\"color: #00d7ff; text-decoration-color: #00d7ff\">None</span>, <span style=\"color: #00af00; text-decoration-color: #00af00\">13</span>, <span style=\"color: #00af00; text-decoration-color: #00af00\">64</span>)         │        <span style=\"color: #00af00; text-decoration-color: #00af00\">18,176</span> │\n",
       "├─────────────────────────────────┼────────────────────────┼───────────────┤\n",
       "│ lstm_4 (<span style=\"color: #0087ff; text-decoration-color: #0087ff\">LSTM</span>)                   │ (<span style=\"color: #00d7ff; text-decoration-color: #00d7ff\">None</span>, <span style=\"color: #00af00; text-decoration-color: #00af00\">13</span>, <span style=\"color: #00af00; text-decoration-color: #00af00\">64</span>)         │        <span style=\"color: #00af00; text-decoration-color: #00af00\">33,024</span> │\n",
       "├─────────────────────────────────┼────────────────────────┼───────────────┤\n",
       "│ lstm_5 (<span style=\"color: #0087ff; text-decoration-color: #0087ff\">LSTM</span>)                   │ (<span style=\"color: #00d7ff; text-decoration-color: #00d7ff\">None</span>, <span style=\"color: #00af00; text-decoration-color: #00af00\">64</span>)             │        <span style=\"color: #00af00; text-decoration-color: #00af00\">33,024</span> │\n",
       "├─────────────────────────────────┼────────────────────────┼───────────────┤\n",
       "│ dense_26 (<span style=\"color: #0087ff; text-decoration-color: #0087ff\">Dense</span>)                │ (<span style=\"color: #00d7ff; text-decoration-color: #00d7ff\">None</span>, <span style=\"color: #00af00; text-decoration-color: #00af00\">1</span>)              │            <span style=\"color: #00af00; text-decoration-color: #00af00\">65</span> │\n",
       "└─────────────────────────────────┴────────────────────────┴───────────────┘\n",
       "</pre>\n"
      ],
      "text/plain": [
       "┏━━━━━━━━━━━━━━━━━━━━━━━━━━━━━━━━━┳━━━━━━━━━━━━━━━━━━━━━━━━┳━━━━━━━━━━━━━━━┓\n",
       "┃\u001b[1m \u001b[0m\u001b[1mLayer (type)                   \u001b[0m\u001b[1m \u001b[0m┃\u001b[1m \u001b[0m\u001b[1mOutput Shape          \u001b[0m\u001b[1m \u001b[0m┃\u001b[1m \u001b[0m\u001b[1m      Param #\u001b[0m\u001b[1m \u001b[0m┃\n",
       "┡━━━━━━━━━━━━━━━━━━━━━━━━━━━━━━━━━╇━━━━━━━━━━━━━━━━━━━━━━━━╇━━━━━━━━━━━━━━━┩\n",
       "│ lstm_3 (\u001b[38;5;33mLSTM\u001b[0m)                   │ (\u001b[38;5;45mNone\u001b[0m, \u001b[38;5;34m13\u001b[0m, \u001b[38;5;34m64\u001b[0m)         │        \u001b[38;5;34m18,176\u001b[0m │\n",
       "├─────────────────────────────────┼────────────────────────┼───────────────┤\n",
       "│ lstm_4 (\u001b[38;5;33mLSTM\u001b[0m)                   │ (\u001b[38;5;45mNone\u001b[0m, \u001b[38;5;34m13\u001b[0m, \u001b[38;5;34m64\u001b[0m)         │        \u001b[38;5;34m33,024\u001b[0m │\n",
       "├─────────────────────────────────┼────────────────────────┼───────────────┤\n",
       "│ lstm_5 (\u001b[38;5;33mLSTM\u001b[0m)                   │ (\u001b[38;5;45mNone\u001b[0m, \u001b[38;5;34m64\u001b[0m)             │        \u001b[38;5;34m33,024\u001b[0m │\n",
       "├─────────────────────────────────┼────────────────────────┼───────────────┤\n",
       "│ dense_26 (\u001b[38;5;33mDense\u001b[0m)                │ (\u001b[38;5;45mNone\u001b[0m, \u001b[38;5;34m1\u001b[0m)              │            \u001b[38;5;34m65\u001b[0m │\n",
       "└─────────────────────────────────┴────────────────────────┴───────────────┘\n"
      ]
     },
     "metadata": {},
     "output_type": "display_data"
    },
    {
     "data": {
      "text/html": [
       "<pre style=\"white-space:pre;overflow-x:auto;line-height:normal;font-family:Menlo,'DejaVu Sans Mono',consolas,'Courier New',monospace\"><span style=\"font-weight: bold\"> Total params: </span><span style=\"color: #00af00; text-decoration-color: #00af00\">84,289</span> (329.25 KB)\n",
       "</pre>\n"
      ],
      "text/plain": [
       "\u001b[1m Total params: \u001b[0m\u001b[38;5;34m84,289\u001b[0m (329.25 KB)\n"
      ]
     },
     "metadata": {},
     "output_type": "display_data"
    },
    {
     "data": {
      "text/html": [
       "<pre style=\"white-space:pre;overflow-x:auto;line-height:normal;font-family:Menlo,'DejaVu Sans Mono',consolas,'Courier New',monospace\"><span style=\"font-weight: bold\"> Trainable params: </span><span style=\"color: #00af00; text-decoration-color: #00af00\">84,289</span> (329.25 KB)\n",
       "</pre>\n"
      ],
      "text/plain": [
       "\u001b[1m Trainable params: \u001b[0m\u001b[38;5;34m84,289\u001b[0m (329.25 KB)\n"
      ]
     },
     "metadata": {},
     "output_type": "display_data"
    },
    {
     "data": {
      "text/html": [
       "<pre style=\"white-space:pre;overflow-x:auto;line-height:normal;font-family:Menlo,'DejaVu Sans Mono',consolas,'Courier New',monospace\"><span style=\"font-weight: bold\"> Non-trainable params: </span><span style=\"color: #00af00; text-decoration-color: #00af00\">0</span> (0.00 B)\n",
       "</pre>\n"
      ],
      "text/plain": [
       "\u001b[1m Non-trainable params: \u001b[0m\u001b[38;5;34m0\u001b[0m (0.00 B)\n"
      ]
     },
     "metadata": {},
     "output_type": "display_data"
    },
    {
     "name": "stdout",
     "output_type": "stream",
     "text": [
      "Epoch 1/40\n",
      "\u001b[1m40/40\u001b[0m \u001b[32m━━━━━━━━━━━━━━━━━━━━\u001b[0m\u001b[37m\u001b[0m \u001b[1m4s\u001b[0m 18ms/step - loss: 0.2116 - val_loss: 0.0125\n",
      "Epoch 2/40\n",
      "\u001b[1m40/40\u001b[0m \u001b[32m━━━━━━━━━━━━━━━━━━━━\u001b[0m\u001b[37m\u001b[0m \u001b[1m0s\u001b[0m 8ms/step - loss: 0.0028 - val_loss: 0.0058\n",
      "Epoch 3/40\n",
      "\u001b[1m40/40\u001b[0m \u001b[32m━━━━━━━━━━━━━━━━━━━━\u001b[0m\u001b[37m\u001b[0m \u001b[1m0s\u001b[0m 8ms/step - loss: 0.0023 - val_loss: 0.0077\n",
      "Epoch 4/40\n",
      "\u001b[1m40/40\u001b[0m \u001b[32m━━━━━━━━━━━━━━━━━━━━\u001b[0m\u001b[37m\u001b[0m \u001b[1m0s\u001b[0m 10ms/step - loss: 0.0023 - val_loss: 0.0078\n",
      "Epoch 5/40\n",
      "\u001b[1m40/40\u001b[0m \u001b[32m━━━━━━━━━━━━━━━━━━━━\u001b[0m\u001b[37m\u001b[0m \u001b[1m0s\u001b[0m 10ms/step - loss: 0.0019 - val_loss: 0.0068\n",
      "Epoch 6/40\n",
      "\u001b[1m40/40\u001b[0m \u001b[32m━━━━━━━━━━━━━━━━━━━━\u001b[0m\u001b[37m\u001b[0m \u001b[1m0s\u001b[0m 10ms/step - loss: 0.0022 - val_loss: 0.0083\n",
      "Epoch 7/40\n",
      "\u001b[1m40/40\u001b[0m \u001b[32m━━━━━━━━━━━━━━━━━━━━\u001b[0m\u001b[37m\u001b[0m \u001b[1m0s\u001b[0m 11ms/step - loss: 0.0019 - val_loss: 0.0094\n",
      "Epoch 8/40\n",
      "\u001b[1m40/40\u001b[0m \u001b[32m━━━━━━━━━━━━━━━━━━━━\u001b[0m\u001b[37m\u001b[0m \u001b[1m0s\u001b[0m 10ms/step - loss: 0.0019 - val_loss: 0.0074\n",
      "Epoch 9/40\n",
      "\u001b[1m40/40\u001b[0m \u001b[32m━━━━━━━━━━━━━━━━━━━━\u001b[0m\u001b[37m\u001b[0m \u001b[1m0s\u001b[0m 10ms/step - loss: 0.0018 - val_loss: 0.0071\n",
      "Epoch 10/40\n",
      "\u001b[1m40/40\u001b[0m \u001b[32m━━━━━━━━━━━━━━━━━━━━\u001b[0m\u001b[37m\u001b[0m \u001b[1m0s\u001b[0m 11ms/step - loss: 0.0022 - val_loss: 0.0077\n",
      "Epoch 11/40\n",
      "\u001b[1m40/40\u001b[0m \u001b[32m━━━━━━━━━━━━━━━━━━━━\u001b[0m\u001b[37m\u001b[0m \u001b[1m1s\u001b[0m 12ms/step - loss: 0.0024 - val_loss: 0.0057\n",
      "Epoch 12/40\n",
      "\u001b[1m40/40\u001b[0m \u001b[32m━━━━━━━━━━━━━━━━━━━━\u001b[0m\u001b[37m\u001b[0m \u001b[1m0s\u001b[0m 11ms/step - loss: 0.0020 - val_loss: 0.0081\n",
      "Epoch 13/40\n",
      "\u001b[1m40/40\u001b[0m \u001b[32m━━━━━━━━━━━━━━━━━━━━\u001b[0m\u001b[37m\u001b[0m \u001b[1m0s\u001b[0m 11ms/step - loss: 0.0017 - val_loss: 0.0095\n",
      "Epoch 14/40\n",
      "\u001b[1m40/40\u001b[0m \u001b[32m━━━━━━━━━━━━━━━━━━━━\u001b[0m\u001b[37m\u001b[0m \u001b[1m0s\u001b[0m 10ms/step - loss: 0.0017 - val_loss: 0.0091\n",
      "Epoch 15/40\n",
      "\u001b[1m40/40\u001b[0m \u001b[32m━━━━━━━━━━━━━━━━━━━━\u001b[0m\u001b[37m\u001b[0m \u001b[1m0s\u001b[0m 10ms/step - loss: 0.0018 - val_loss: 0.0081\n",
      "Epoch 16/40\n",
      "\u001b[1m40/40\u001b[0m \u001b[32m━━━━━━━━━━━━━━━━━━━━\u001b[0m\u001b[37m\u001b[0m \u001b[1m0s\u001b[0m 9ms/step - loss: 0.0020 - val_loss: 0.0071\n",
      "Epoch 17/40\n",
      "\u001b[1m40/40\u001b[0m \u001b[32m━━━━━━━━━━━━━━━━━━━━\u001b[0m\u001b[37m\u001b[0m \u001b[1m0s\u001b[0m 11ms/step - loss: 0.0016 - val_loss: 0.0110\n",
      "Epoch 18/40\n",
      "\u001b[1m40/40\u001b[0m \u001b[32m━━━━━━━━━━━━━━━━━━━━\u001b[0m\u001b[37m\u001b[0m \u001b[1m0s\u001b[0m 10ms/step - loss: 0.0014 - val_loss: 0.0066\n",
      "Epoch 19/40\n",
      "\u001b[1m40/40\u001b[0m \u001b[32m━━━━━━━━━━━━━━━━━━━━\u001b[0m\u001b[37m\u001b[0m \u001b[1m0s\u001b[0m 10ms/step - loss: 0.0020 - val_loss: 0.0074\n",
      "Epoch 20/40\n",
      "\u001b[1m40/40\u001b[0m \u001b[32m━━━━━━━━━━━━━━━━━━━━\u001b[0m\u001b[37m\u001b[0m \u001b[1m0s\u001b[0m 10ms/step - loss: 0.0020 - val_loss: 0.0140\n",
      "Epoch 21/40\n",
      "\u001b[1m40/40\u001b[0m \u001b[32m━━━━━━━━━━━━━━━━━━━━\u001b[0m\u001b[37m\u001b[0m \u001b[1m0s\u001b[0m 11ms/step - loss: 0.0017 - val_loss: 0.0077\n",
      "Epoch 22/40\n",
      "\u001b[1m40/40\u001b[0m \u001b[32m━━━━━━━━━━━━━━━━━━━━\u001b[0m\u001b[37m\u001b[0m \u001b[1m0s\u001b[0m 9ms/step - loss: 0.0014 - val_loss: 0.0094\n",
      "Epoch 23/40\n",
      "\u001b[1m40/40\u001b[0m \u001b[32m━━━━━━━━━━━━━━━━━━━━\u001b[0m\u001b[37m\u001b[0m \u001b[1m0s\u001b[0m 9ms/step - loss: 0.0016 - val_loss: 0.0076\n",
      "Epoch 24/40\n",
      "\u001b[1m40/40\u001b[0m \u001b[32m━━━━━━━━━━━━━━━━━━━━\u001b[0m\u001b[37m\u001b[0m \u001b[1m0s\u001b[0m 12ms/step - loss: 0.0014 - val_loss: 0.0132\n",
      "Epoch 25/40\n",
      "\u001b[1m40/40\u001b[0m \u001b[32m━━━━━━━━━━━━━━━━━━━━\u001b[0m\u001b[37m\u001b[0m \u001b[1m0s\u001b[0m 9ms/step - loss: 0.0015 - val_loss: 0.0108\n",
      "Epoch 26/40\n",
      "\u001b[1m40/40\u001b[0m \u001b[32m━━━━━━━━━━━━━━━━━━━━\u001b[0m\u001b[37m\u001b[0m \u001b[1m0s\u001b[0m 10ms/step - loss: 0.0017 - val_loss: 0.0074\n",
      "Epoch 27/40\n",
      "\u001b[1m40/40\u001b[0m \u001b[32m━━━━━━━━━━━━━━━━━━━━\u001b[0m\u001b[37m\u001b[0m \u001b[1m0s\u001b[0m 11ms/step - loss: 0.0018 - val_loss: 0.0133\n",
      "Epoch 28/40\n",
      "\u001b[1m40/40\u001b[0m \u001b[32m━━━━━━━━━━━━━━━━━━━━\u001b[0m\u001b[37m\u001b[0m \u001b[1m0s\u001b[0m 9ms/step - loss: 0.0012 - val_loss: 0.0096\n",
      "Epoch 29/40\n",
      "\u001b[1m40/40\u001b[0m \u001b[32m━━━━━━━━━━━━━━━━━━━━\u001b[0m\u001b[37m\u001b[0m \u001b[1m0s\u001b[0m 8ms/step - loss: 0.0014 - val_loss: 0.0188\n",
      "Epoch 30/40\n",
      "\u001b[1m40/40\u001b[0m \u001b[32m━━━━━━━━━━━━━━━━━━━━\u001b[0m\u001b[37m\u001b[0m \u001b[1m0s\u001b[0m 11ms/step - loss: 0.0015 - val_loss: 0.0094\n",
      "Epoch 31/40\n",
      "\u001b[1m40/40\u001b[0m \u001b[32m━━━━━━━━━━━━━━━━━━━━\u001b[0m\u001b[37m\u001b[0m \u001b[1m0s\u001b[0m 11ms/step - loss: 0.0012 - val_loss: 0.0135\n",
      "Epoch 32/40\n",
      "\u001b[1m40/40\u001b[0m \u001b[32m━━━━━━━━━━━━━━━━━━━━\u001b[0m\u001b[37m\u001b[0m \u001b[1m0s\u001b[0m 10ms/step - loss: 0.0013 - val_loss: 0.0098\n",
      "Epoch 33/40\n",
      "\u001b[1m40/40\u001b[0m \u001b[32m━━━━━━━━━━━━━━━━━━━━\u001b[0m\u001b[37m\u001b[0m \u001b[1m0s\u001b[0m 10ms/step - loss: 0.0011 - val_loss: 0.0134\n",
      "Epoch 34/40\n",
      "\u001b[1m40/40\u001b[0m \u001b[32m━━━━━━━━━━━━━━━━━━━━\u001b[0m\u001b[37m\u001b[0m \u001b[1m0s\u001b[0m 9ms/step - loss: 0.0011 - val_loss: 0.0152\n",
      "Epoch 35/40\n",
      "\u001b[1m40/40\u001b[0m \u001b[32m━━━━━━━━━━━━━━━━━━━━\u001b[0m\u001b[37m\u001b[0m \u001b[1m0s\u001b[0m 11ms/step - loss: 0.0012 - val_loss: 0.0089\n",
      "Epoch 36/40\n",
      "\u001b[1m40/40\u001b[0m \u001b[32m━━━━━━━━━━━━━━━━━━━━\u001b[0m\u001b[37m\u001b[0m \u001b[1m0s\u001b[0m 11ms/step - loss: 9.5550e-04 - val_loss: 0.0163\n",
      "Epoch 37/40\n",
      "\u001b[1m40/40\u001b[0m \u001b[32m━━━━━━━━━━━━━━━━━━━━\u001b[0m\u001b[37m\u001b[0m \u001b[1m0s\u001b[0m 10ms/step - loss: 0.0010 - val_loss: 0.0111\n",
      "Epoch 38/40\n",
      "\u001b[1m40/40\u001b[0m \u001b[32m━━━━━━━━━━━━━━━━━━━━\u001b[0m\u001b[37m\u001b[0m \u001b[1m0s\u001b[0m 10ms/step - loss: 8.0657e-04 - val_loss: 0.0075\n",
      "Epoch 39/40\n",
      "\u001b[1m40/40\u001b[0m \u001b[32m━━━━━━━━━━━━━━━━━━━━\u001b[0m\u001b[37m\u001b[0m \u001b[1m0s\u001b[0m 11ms/step - loss: 8.9445e-04 - val_loss: 0.0098\n",
      "Epoch 40/40\n",
      "\u001b[1m40/40\u001b[0m \u001b[32m━━━━━━━━━━━━━━━━━━━━\u001b[0m\u001b[37m\u001b[0m \u001b[1m0s\u001b[0m 10ms/step - loss: 7.0782e-04 - val_loss: 0.0116\n",
      "\u001b[1m7/7\u001b[0m \u001b[32m━━━━━━━━━━━━━━━━━━━━\u001b[0m\u001b[37m\u001b[0m \u001b[1m1s\u001b[0m 69ms/step\n",
      "MAE: 0.0014645328424328597\n",
      "RMSE: 0.0019044447056906476\n",
      "R2 Score: 0.8748725774426059\n"
     ]
    }
   ],
   "source": [
    "# Model Creation\n",
    "model = Sequential()\n",
    "\n",
    "# First LSTM layer with return_sequences=True (to pass full sequence to next LSTM)\n",
    "model.add(LSTM(64, return_sequences=True, input_shape=(X_train.shape[1], X_train.shape[2])))\n",
    "\n",
    "# Second LSTM layer with return_sequences=True\n",
    "model.add(LSTM(64, return_sequences=True))\n",
    "\n",
    "# Third (last) LSTM layer with return_sequences=False\n",
    "model.add(LSTM(64, return_sequences=False))\n",
    "\n",
    "# Output layer\n",
    "model.add(Dense(1))\n",
    "\n",
    "model.compile(optimizer='adam', loss='mse')\n",
    "model.summary()\n",
    "\n",
    "# Model Training\n",
    "history = model.fit(X_train, y_train, epochs=40, batch_size=16, validation_split=0.2)\n",
    "y_pred = model.predict(X_test)\n",
    "\n",
    "# Inverse scale the predictions and actual values\n",
    "full_target_scaler = MinMaxScaler() # Creates a new scaler to reverse the normalization for the target variable only.\n",
    "full_target_scaler.min_, full_target_scaler.scale_ = scaler.min_[-1], scaler.scale_[-1]\n",
    "# Extracts the min_ and scale_ values used for Power_Generated (target)\n",
    "\n",
    "y_test_inv = y_test / full_target_scaler.scale_ + full_target_scaler.min_\n",
    "# Manually reverse the MinMaxScaler transform: Formula: original = (scaled / scale_) + min_\n",
    "y_pred_inv = y_pred.flatten() / full_target_scaler.scale_ + full_target_scaler.min_\n",
    "# .flatten(): Converts prediction shape from (n,1) to (n,) for comparison.\n",
    "\n",
    "# MinMaxScaler scales all columns (features + target) to a range between 0 and 1: are scaled values — not actual watts of power anymore. \n",
    "# You want to convert them back to original values (watts) to interpret results meaningfully.\n",
    "\n",
    "# Evaluation\n",
    "print(\"MAE:\", mean_absolute_error(y_test_inv, y_pred_inv))\n",
    "print(\"RMSE:\", np.sqrt(mean_squared_error(y_test_inv, y_pred_inv)))\n",
    "print(\"R2 Score:\", r2_score(y_test_inv, y_pred_inv))\n"
   ]
  },
  {
   "cell_type": "markdown",
   "id": "d57ecc25",
   "metadata": {},
   "source": [
    "param is number of trainable parameters\n",
    "Parameters=4×(units×(input_dim+units)+bias) Here, for lstm layer, 64 units in output layer and 3 features selected:\n",
    "Parameters=4×(64×(3+64)+64)=17,408\n",
    "Parametrs for dense layer, 64 weights (one for each LSTM output) + 1 bias = 65"
   ]
  },
  {
   "cell_type": "code",
   "execution_count": 40,
   "id": "49e9c267",
   "metadata": {},
   "outputs": [
    {
     "data": {
      "image/png": "[encoded data removed]",
      "text/plain": [
       "<Figure size 1200x600 with 1 Axes>"
      ]
     },
     "metadata": {},
     "output_type": "display_data"
    }
   ],
   "source": [
    "import matplotlib.pyplot as plt\n",
    "\n",
    "plt.figure(figsize=(12, 6))\n",
    "plt.plot(y_test_inv, label='Actual Power Output')\n",
    "plt.plot(y_pred_inv, label='Predicted Power Output')\n",
    "plt.title('LSTM Prediction')\n",
    "plt.xlabel('Time Step')\n",
    "plt.ylabel('Power Output (kW)')\n",
    "plt.legend()\n",
    "plt.grid(True)\n",
    "plt.show()\n"
   ]
  },
  {
   "cell_type": "markdown",
   "id": "98d61761",
   "metadata": {},
   "source": [
    "TRANSFORMERS"
   ]
  },
  {
   "cell_type": "code",
   "execution_count": 41,
   "id": "dba5e376",
   "metadata": {},
   "outputs": [
    {
     "data": {
      "text/plain": [
       "(1009, 13)"
      ]
     },
     "execution_count": 41,
     "metadata": {},
     "output_type": "execute_result"
    }
   ],
   "source": [
    "solar_power.shape"
   ]
  },
  {
   "cell_type": "code",
   "execution_count": 42,
   "id": "a6be1a01",
   "metadata": {},
   "outputs": [],
   "source": [
    "import tensorflow as tf\n",
    "from tensorflow.keras.models import Model\n",
    "from tensorflow.keras.layers import Input, Dense, LayerNormalization, Dropout, Layer\n",
    "from tensorflow.keras.layers import MultiHeadAttention, GlobalAveragePooling1D, Add"
   ]
  },
  {
   "cell_type": "code",
   "execution_count": 43,
   "id": "c364cbbc",
   "metadata": {},
   "outputs": [
    {
     "name": "stdout",
     "output_type": "stream",
     "text": [
      "Index(['Solar_Radiation', 'Air_Temp', 'Relative_Humidity', 'Wind_Speed',\n",
      "       'Wind_Direction', 'Array_Voltage', 'Array_Current'],\n",
      "      dtype='object')\n",
      "                      Air_Temp  Relative_Humidity  Wind_Speed  Wind_Direction  \\\n",
      "Timestamp                                                                       \n",
      "2022-04-27 15:32:00  43.349172          12.790256    0.533333      118.786620   \n",
      "2022-04-27 15:34:00  43.433980          11.468986    1.866667       84.681408   \n",
      "2022-04-27 15:36:00  43.286580          11.047298    2.866667       40.807156   \n",
      "2022-04-27 15:38:00  43.523020          12.058292    0.000000       66.390848   \n",
      "2022-04-27 15:40:00  43.728656          10.722330    2.266667        2.127408   \n",
      "\n",
      "                     Solar_Radiation       RTD_1      RTD_2      RTD_3  \\\n",
      "Timestamp                                                                \n",
      "2022-04-27 15:32:00        707.53384   98.289640  94.283552  89.002824   \n",
      "2022-04-27 15:34:00        710.46328   98.377480  94.177872  89.334664   \n",
      "2022-04-27 15:36:00        695.51016   97.868064  93.703480  88.844592   \n",
      "2022-04-27 15:38:00        696.24472  101.470960  97.112320  91.963472   \n",
      "2022-04-27 15:40:00        674.05752  101.664240  97.253520  91.980872   \n",
      "\n",
      "                         RTD_4      RTD_5  Array_Voltage  Array_Current  \\\n",
      "Timestamp                                                                 \n",
      "2022-04-27 15:32:00  93.334288  94.142984      80.178232       5.364869   \n",
      "2022-04-27 15:34:00  93.633208  94.107592      80.266728       5.366041   \n",
      "2022-04-27 15:36:00  92.982568  93.650656      80.187416       5.365501   \n",
      "2022-04-27 15:38:00  96.146384  97.147776      80.727760       5.364512   \n",
      "2022-04-27 15:40:00  96.110968  97.341296      80.500312       5.365144   \n",
      "\n",
      "                     Power_Generated  \n",
      "Timestamp                             \n",
      "2022-04-27 15:32:00        430.14572  \n",
      "2022-04-27 15:34:00        430.71452  \n",
      "2022-04-27 15:36:00        430.24568  \n",
      "2022-04-27 15:38:00        433.06504  \n",
      "2022-04-27 15:40:00        431.89576  \n"
     ]
    }
   ],
   "source": [
    "print(features.columns)\n",
    "print(solar_power.head())"
   ]
  },
  {
   "cell_type": "code",
   "execution_count": 44,
   "id": "b55d28ab",
   "metadata": {},
   "outputs": [
    {
     "name": "stdout",
     "output_type": "stream",
     "text": [
      "True\n",
      "['Solar_Radiation', 'Air_Temp', 'Relative_Humidity', 'Wind_Speed', 'Wind_Direction', 'Array_Voltage', 'Array_Current']\n"
     ]
    }
   ],
   "source": [
    "print('Power_Generated' in solar_power.columns)  # Returns True or False\n",
    "print(features.columns.tolist())\n"
   ]
  },
  {
   "cell_type": "code",
   "execution_count": 45,
   "id": "3f9730ce",
   "metadata": {},
   "outputs": [],
   "source": [
    "# Preprocessing\n",
    "# Extract features\n",
    "features = solar_power[['Solar_Radiation', 'Air_Temp', 'Relative_Humidity',\n",
    "                        'Power_Generated', 'Wind_Speed', 'Wind_Direction',\n",
    "                        'Array_Voltage', 'Array_Current']].copy()\n",
    "\n",
    "features.columns = features.columns.str.strip()"
   ]
  },
  {
   "cell_type": "code",
   "execution_count": 46,
   "id": "b2c6aeb3",
   "metadata": {},
   "outputs": [],
   "source": [
    "target_col = 'Power_Generated'\n",
    "target_index = features.columns.get_loc(target_col)"
   ]
  },
  {
   "cell_type": "code",
   "execution_count": 47,
   "id": "bdeff83e",
   "metadata": {},
   "outputs": [],
   "source": [
    "# Scale all features\n",
    "scaler = MinMaxScaler()\n",
    "scaled_data = scaler.fit_transform(features)"
   ]
  },
  {
   "cell_type": "code",
   "execution_count": 48,
   "id": "3b16722d",
   "metadata": {},
   "outputs": [],
   "source": [
    "#Sequence Creation\n",
    "def create_sequences(data, seq_length, target_index):\n",
    "    X, y = [], []\n",
    "    for i in range(len(data) - seq_length):\n",
    "        seq_x = data[i:i+seq_length]\n",
    "        seq_y = data[i+seq_length, target_index]\n",
    "        X.append(seq_x)\n",
    "        y.append(seq_y)\n",
    "    return np.array(X), np.array(y)\n",
    "\n",
    "SEQ_LEN = 23\n",
    "X, y = create_sequences(scaled_data, SEQ_LEN, target_index)"
   ]
  },
  {
   "cell_type": "markdown",
   "id": "08e485d8",
   "metadata": {},
   "source": [
    "Converts the time-series into overlapping sequences for Transformer input:\n",
    "\n",
    "X: previous seq_length timesteps of data.\n",
    "y: the value to predict after that sequence."
   ]
  },
  {
   "cell_type": "code",
   "execution_count": 49,
   "id": "458485bd",
   "metadata": {},
   "outputs": [],
   "source": [
    "# Train/test split\n",
    "split = int(0.8 * len(X))\n",
    "X_train, X_test = X[:split], X[split:]\n",
    "y_train, y_test = y[:split], y[split:]"
   ]
  },
  {
   "cell_type": "markdown",
   "id": "98ccded1",
   "metadata": {},
   "source": [
    "Transformer layer has 6 encoders and 6 decoders."
   ]
  },
  {
   "cell_type": "markdown",
   "id": "e802c467",
   "metadata": {},
   "source": [
    "1. Input Embedding: Each token in the input sequence is converted into a dense vector representation. This step is crucial for enabling the model to process textual data numerically.\n",
    "2. Positional encodings—a crucial concept in Transformer models that lets the model capture the order of sequences, since unlike RNNs, Transformers have no inherent sense of sequence."
   ]
  },
  {
   "cell_type": "code",
   "execution_count": 50,
   "id": "d83f30df",
   "metadata": {},
   "outputs": [],
   "source": [
    "# Positional Encoding\n",
    "def get_positional_encoding(seq_len, d_model): #d_model: the dimension of the embeddings\n",
    "# Generate Position & Index Grids\n",
    "    pos = np.arange(seq_len)[:, np.newaxis]\n",
    "    i = np.arange(d_model)[np.newaxis, :]\n",
    "\n",
    "    angle_rates = 1 / np.power(10000, (2 * (i // 2)) / np.float32(d_model))\n",
    "    angle_rads = pos * angle_rates #Compute Angles\n",
    "    # Apply Sin and Cos to Alternating Columns\n",
    "    pos_encoding = np.zeros(angle_rads.shape)\n",
    "    pos_encoding[:, 0::2] = np.sin(angle_rads[:, 0::2])\n",
    "    pos_encoding[:, 1::2] = np.cos(angle_rads[:, 1::2])\n",
    "   \n",
    "    return tf.cast(pos_encoding[np.newaxis, ...], dtype=tf.float32)"
   ]
  },
  {
   "cell_type": "markdown",
   "id": "236a1429",
   "metadata": {},
   "source": [
    "Apply Sin and Cos to Alternating Columns\n",
    "sin to even indices [0, 2, 4, ...]\n",
    "cos to odd indices [1, 3, 5, ...]\n",
    "\n",
    "This alternating pattern allows the model to distinguish between different positions."
   ]
  },
  {
   "cell_type": "markdown",
   "id": "cc674674",
   "metadata": {},
   "source": [
    "class TransformerBlock(Layer): Defines a custom Transformer block: \n",
    "Multi-head attention\n",
    "Feedforward layers\n",
    "LayerNorm\n",
    "Dropout\n",
    "\n",
    "def __init__(self, embed_dim, num_heads, ff_dim, rate=0.1):\n",
    "\n",
    "embed_dim: dimensionality of the input (i.e., size of embedding vector).\n",
    "num_heads: number of attention heads.\n",
    "ff_dim: dimensionality of the feed-forward layer.\n",
    "rate: dropout rate, default 10%."
   ]
  },
  {
   "cell_type": "markdown",
   "id": "c7995b5d",
   "metadata": {},
   "source": [
    "Transformer Block:\n",
    "Input\n",
    "  ↓\n",
    "Multi-Head Attention + Dropout → Add & LayerNorm\n",
    "  ↓\n",
    "Feed-Forward + Dropout → Add & LayerNorm\n",
    "  ↓\n",
    "Output\n",
    "\n",
    "and\n",
    "\n",
    "Input\n",
    "  ↓\n",
    "Self-Attention → Dropout → Add (Residual) → LayerNorm\n",
    "  ↓\n",
    "Feed-Forward → Dropout → Add (Residual) → LayerNorm\n",
    "  ↓\n",
    "Output\n"
   ]
  },
  {
   "cell_type": "code",
   "execution_count": 51,
   "id": "d0820ef2",
   "metadata": {},
   "outputs": [],
   "source": [
    "# Transformer Block\n",
    "class TransformerBlock(Layer):\n",
    "    def __init__(self, embed_dim, num_heads, ff_dim, rate=0.1):\n",
    "        super().__init__()\n",
    "        self.att = MultiHeadAttention(num_heads=num_heads, key_dim=embed_dim) \n",
    "        # Multi-head self-attention layer: Each head independently performs attention on the input\n",
    "        self.ffn = tf.keras.Sequential([\n",
    "            Dense(ff_dim, activation='relu'),\n",
    "            Dense(embed_dim)\n",
    "             ])\n",
    "#Feed-Forward Network (FFN): First dense layer expands to ff_dim units with ReLU activation (non-linearity).\n",
    "# Second dense layer compresses back to embed_dim (original size) — helps preserve dimensionality after transformation.\n",
    "       \n",
    "        self.layernorm1 = LayerNormalization(epsilon=1e-6)\n",
    "        self.layernorm2 = LayerNormalization(epsilon=1e-6)\n",
    "        self.dropout1 = Dropout(rate)\n",
    "        self.dropout2 = Dropout(rate)\n",
    "\n",
    "        \n",
    "    def call(self, inputs, training=None):\n",
    "        attn_output = self.att(inputs, inputs, training=training)\n",
    "        attn_output = self.dropout1(attn_output, training=training) # Regularization step — prevents overfitting during training.\n",
    "        out1 = self.layernorm1(inputs + attn_output)\n",
    "        ffn_output = self.ffn(out1)\n",
    "        ffn_output = self.dropout2(ffn_output, training=training)\n",
    "        return self.layernorm2(out1 + ffn_output)\n"
   ]
  },
  {
   "cell_type": "markdown",
   "id": "b492ca1d",
   "metadata": {},
   "source": [
    "attn_output = self.att(inputs, inputs, training=training): This layer lets each position in the input attend to every other position in the sequence.\n",
    "\n",
    "The input is passed as:\n",
    "Query = inputs\n",
    "Key = inputs\n",
    "Value = inputs\n",
    "\n",
    "So it's self-attention."
   ]
  },
  {
   "cell_type": "code",
   "execution_count": 52,
   "id": "8920b656",
   "metadata": {},
   "outputs": [
    {
     "data": {
      "text/html": [
       "<pre style=\"white-space:pre;overflow-x:auto;line-height:normal;font-family:Menlo,'DejaVu Sans Mono',consolas,'Courier New',monospace\"><span style=\"font-weight: bold\">Model: \"functional_19\"</span>\n",
       "</pre>\n"
      ],
      "text/plain": [
       "\u001b[1mModel: \"functional_19\"\u001b[0m\n"
      ]
     },
     "metadata": {},
     "output_type": "display_data"
    },
    {
     "data": {
      "text/html": [
       "<pre style=\"white-space:pre;overflow-x:auto;line-height:normal;font-family:Menlo,'DejaVu Sans Mono',consolas,'Courier New',monospace\">┏━━━━━━━━━━━━━━━━━━━━━━━━━━━━━━━━━┳━━━━━━━━━━━━━━━━━━━━━━━━┳━━━━━━━━━━━━━━━┓\n",
       "┃<span style=\"font-weight: bold\"> Layer (type)                    </span>┃<span style=\"font-weight: bold\"> Output Shape           </span>┃<span style=\"font-weight: bold\">       Param # </span>┃\n",
       "┡━━━━━━━━━━━━━━━━━━━━━━━━━━━━━━━━━╇━━━━━━━━━━━━━━━━━━━━━━━━╇━━━━━━━━━━━━━━━┩\n",
       "│ input_layer_12 (<span style=\"color: #0087ff; text-decoration-color: #0087ff\">InputLayer</span>)     │ (<span style=\"color: #00d7ff; text-decoration-color: #00d7ff\">None</span>, <span style=\"color: #00af00; text-decoration-color: #00af00\">23</span>, <span style=\"color: #00af00; text-decoration-color: #00af00\">8</span>)          │             <span style=\"color: #00af00; text-decoration-color: #00af00\">0</span> │\n",
       "├─────────────────────────────────┼────────────────────────┼───────────────┤\n",
       "│ dense_27 (<span style=\"color: #0087ff; text-decoration-color: #0087ff\">Dense</span>)                │ (<span style=\"color: #00d7ff; text-decoration-color: #00d7ff\">None</span>, <span style=\"color: #00af00; text-decoration-color: #00af00\">23</span>, <span style=\"color: #00af00; text-decoration-color: #00af00\">64</span>)         │           <span style=\"color: #00af00; text-decoration-color: #00af00\">576</span> │\n",
       "├─────────────────────────────────┼────────────────────────┼───────────────┤\n",
       "│ add_5 (<span style=\"color: #0087ff; text-decoration-color: #0087ff\">Add</span>)                     │ (<span style=\"color: #00d7ff; text-decoration-color: #00d7ff\">None</span>, <span style=\"color: #00af00; text-decoration-color: #00af00\">23</span>, <span style=\"color: #00af00; text-decoration-color: #00af00\">64</span>)         │             <span style=\"color: #00af00; text-decoration-color: #00af00\">0</span> │\n",
       "├─────────────────────────────────┼────────────────────────┼───────────────┤\n",
       "│ transformer_block_5             │ (<span style=\"color: #00d7ff; text-decoration-color: #00d7ff\">None</span>, <span style=\"color: #00af00; text-decoration-color: #00af00\">23</span>, <span style=\"color: #00af00; text-decoration-color: #00af00\">64</span>)         │        <span style=\"color: #00af00; text-decoration-color: #00af00\">83,200</span> │\n",
       "│ (<span style=\"color: #0087ff; text-decoration-color: #0087ff\">TransformerBlock</span>)              │                        │               │\n",
       "├─────────────────────────────────┼────────────────────────┼───────────────┤\n",
       "│ global_average_pooling1d_5      │ (<span style=\"color: #00d7ff; text-decoration-color: #00d7ff\">None</span>, <span style=\"color: #00af00; text-decoration-color: #00af00\">64</span>)             │             <span style=\"color: #00af00; text-decoration-color: #00af00\">0</span> │\n",
       "│ (<span style=\"color: #0087ff; text-decoration-color: #0087ff\">GlobalAveragePooling1D</span>)        │                        │               │\n",
       "├─────────────────────────────────┼────────────────────────┼───────────────┤\n",
       "│ dense_30 (<span style=\"color: #0087ff; text-decoration-color: #0087ff\">Dense</span>)                │ (<span style=\"color: #00d7ff; text-decoration-color: #00d7ff\">None</span>, <span style=\"color: #00af00; text-decoration-color: #00af00\">64</span>)             │         <span style=\"color: #00af00; text-decoration-color: #00af00\">4,160</span> │\n",
       "├─────────────────────────────────┼────────────────────────┼───────────────┤\n",
       "│ dense_31 (<span style=\"color: #0087ff; text-decoration-color: #0087ff\">Dense</span>)                │ (<span style=\"color: #00d7ff; text-decoration-color: #00d7ff\">None</span>, <span style=\"color: #00af00; text-decoration-color: #00af00\">1</span>)              │            <span style=\"color: #00af00; text-decoration-color: #00af00\">65</span> │\n",
       "└─────────────────────────────────┴────────────────────────┴───────────────┘\n",
       "</pre>\n"
      ],
      "text/plain": [
       "┏━━━━━━━━━━━━━━━━━━━━━━━━━━━━━━━━━┳━━━━━━━━━━━━━━━━━━━━━━━━┳━━━━━━━━━━━━━━━┓\n",
       "┃\u001b[1m \u001b[0m\u001b[1mLayer (type)                   \u001b[0m\u001b[1m \u001b[0m┃\u001b[1m \u001b[0m\u001b[1mOutput Shape          \u001b[0m\u001b[1m \u001b[0m┃\u001b[1m \u001b[0m\u001b[1m      Param #\u001b[0m\u001b[1m \u001b[0m┃\n",
       "┡━━━━━━━━━━━━━━━━━━━━━━━━━━━━━━━━━╇━━━━━━━━━━━━━━━━━━━━━━━━╇━━━━━━━━━━━━━━━┩\n",
       "│ input_layer_12 (\u001b[38;5;33mInputLayer\u001b[0m)     │ (\u001b[38;5;45mNone\u001b[0m, \u001b[38;5;34m23\u001b[0m, \u001b[38;5;34m8\u001b[0m)          │             \u001b[38;5;34m0\u001b[0m │\n",
       "├─────────────────────────────────┼────────────────────────┼───────────────┤\n",
       "│ dense_27 (\u001b[38;5;33mDense\u001b[0m)                │ (\u001b[38;5;45mNone\u001b[0m, \u001b[38;5;34m23\u001b[0m, \u001b[38;5;34m64\u001b[0m)         │           \u001b[38;5;34m576\u001b[0m │\n",
       "├─────────────────────────────────┼────────────────────────┼───────────────┤\n",
       "│ add_5 (\u001b[38;5;33mAdd\u001b[0m)                     │ (\u001b[38;5;45mNone\u001b[0m, \u001b[38;5;34m23\u001b[0m, \u001b[38;5;34m64\u001b[0m)         │             \u001b[38;5;34m0\u001b[0m │\n",
       "├─────────────────────────────────┼────────────────────────┼───────────────┤\n",
       "│ transformer_block_5             │ (\u001b[38;5;45mNone\u001b[0m, \u001b[38;5;34m23\u001b[0m, \u001b[38;5;34m64\u001b[0m)         │        \u001b[38;5;34m83,200\u001b[0m │\n",
       "│ (\u001b[38;5;33mTransformerBlock\u001b[0m)              │                        │               │\n",
       "├─────────────────────────────────┼────────────────────────┼───────────────┤\n",
       "│ global_average_pooling1d_5      │ (\u001b[38;5;45mNone\u001b[0m, \u001b[38;5;34m64\u001b[0m)             │             \u001b[38;5;34m0\u001b[0m │\n",
       "│ (\u001b[38;5;33mGlobalAveragePooling1D\u001b[0m)        │                        │               │\n",
       "├─────────────────────────────────┼────────────────────────┼───────────────┤\n",
       "│ dense_30 (\u001b[38;5;33mDense\u001b[0m)                │ (\u001b[38;5;45mNone\u001b[0m, \u001b[38;5;34m64\u001b[0m)             │         \u001b[38;5;34m4,160\u001b[0m │\n",
       "├─────────────────────────────────┼────────────────────────┼───────────────┤\n",
       "│ dense_31 (\u001b[38;5;33mDense\u001b[0m)                │ (\u001b[38;5;45mNone\u001b[0m, \u001b[38;5;34m1\u001b[0m)              │            \u001b[38;5;34m65\u001b[0m │\n",
       "└─────────────────────────────────┴────────────────────────┴───────────────┘\n"
      ]
     },
     "metadata": {},
     "output_type": "display_data"
    },
    {
     "data": {
      "text/html": [
       "<pre style=\"white-space:pre;overflow-x:auto;line-height:normal;font-family:Menlo,'DejaVu Sans Mono',consolas,'Courier New',monospace\"><span style=\"font-weight: bold\"> Total params: </span><span style=\"color: #00af00; text-decoration-color: #00af00\">88,001</span> (343.75 KB)\n",
       "</pre>\n"
      ],
      "text/plain": [
       "\u001b[1m Total params: \u001b[0m\u001b[38;5;34m88,001\u001b[0m (343.75 KB)\n"
      ]
     },
     "metadata": {},
     "output_type": "display_data"
    },
    {
     "data": {
      "text/html": [
       "<pre style=\"white-space:pre;overflow-x:auto;line-height:normal;font-family:Menlo,'DejaVu Sans Mono',consolas,'Courier New',monospace\"><span style=\"font-weight: bold\"> Trainable params: </span><span style=\"color: #00af00; text-decoration-color: #00af00\">88,001</span> (343.75 KB)\n",
       "</pre>\n"
      ],
      "text/plain": [
       "\u001b[1m Trainable params: \u001b[0m\u001b[38;5;34m88,001\u001b[0m (343.75 KB)\n"
      ]
     },
     "metadata": {},
     "output_type": "display_data"
    },
    {
     "data": {
      "text/html": [
       "<pre style=\"white-space:pre;overflow-x:auto;line-height:normal;font-family:Menlo,'DejaVu Sans Mono',consolas,'Courier New',monospace\"><span style=\"font-weight: bold\"> Non-trainable params: </span><span style=\"color: #00af00; text-decoration-color: #00af00\">0</span> (0.00 B)\n",
       "</pre>\n"
      ],
      "text/plain": [
       "\u001b[1m Non-trainable params: \u001b[0m\u001b[38;5;34m0\u001b[0m (0.00 B)\n"
      ]
     },
     "metadata": {},
     "output_type": "display_data"
    },
    {
     "name": "stdout",
     "output_type": "stream",
     "text": [
      "Epoch 1/20\n",
      "\u001b[1m10/10\u001b[0m \u001b[32m━━━━━━━━━━━━━━━━━━━━\u001b[0m\u001b[37m\u001b[0m \u001b[1m3s\u001b[0m 44ms/step - loss: 0.3096 - val_loss: 0.0529\n",
      "Epoch 2/20\n",
      "\u001b[1m10/10\u001b[0m \u001b[32m━━━━━━━━━━━━━━━━━━━━\u001b[0m\u001b[37m\u001b[0m \u001b[1m0s\u001b[0m 20ms/step - loss: 0.0335 - val_loss: 0.0036\n",
      "Epoch 3/20\n",
      "\u001b[1m10/10\u001b[0m \u001b[32m━━━━━━━━━━━━━━━━━━━━\u001b[0m\u001b[37m\u001b[0m \u001b[1m0s\u001b[0m 19ms/step - loss: 0.0179 - val_loss: 0.0033\n",
      "Epoch 4/20\n",
      "\u001b[1m10/10\u001b[0m \u001b[32m━━━━━━━━━━━━━━━━━━━━\u001b[0m\u001b[37m\u001b[0m \u001b[1m0s\u001b[0m 21ms/step - loss: 0.0112 - val_loss: 0.0046\n",
      "Epoch 5/20\n",
      "\u001b[1m10/10\u001b[0m \u001b[32m━━━━━━━━━━━━━━━━━━━━\u001b[0m\u001b[37m\u001b[0m \u001b[1m0s\u001b[0m 20ms/step - loss: 0.0104 - val_loss: 0.0030\n",
      "Epoch 6/20\n",
      "\u001b[1m10/10\u001b[0m \u001b[32m━━━━━━━━━━━━━━━━━━━━\u001b[0m\u001b[37m\u001b[0m \u001b[1m0s\u001b[0m 17ms/step - loss: 0.0106 - val_loss: 0.0026\n",
      "Epoch 7/20\n",
      "\u001b[1m10/10\u001b[0m \u001b[32m━━━━━━━━━━━━━━━━━━━━\u001b[0m\u001b[37m\u001b[0m \u001b[1m0s\u001b[0m 18ms/step - loss: 0.0120 - val_loss: 0.0033\n",
      "Epoch 8/20\n",
      "\u001b[1m10/10\u001b[0m \u001b[32m━━━━━━━━━━━━━━━━━━━━\u001b[0m\u001b[37m\u001b[0m \u001b[1m0s\u001b[0m 20ms/step - loss: 0.0079 - val_loss: 0.0029\n",
      "Epoch 9/20\n",
      "\u001b[1m10/10\u001b[0m \u001b[32m━━━━━━━━━━━━━━━━━━━━\u001b[0m\u001b[37m\u001b[0m \u001b[1m0s\u001b[0m 18ms/step - loss: 0.0085 - val_loss: 0.0018\n",
      "Epoch 10/20\n",
      "\u001b[1m10/10\u001b[0m \u001b[32m━━━━━━━━━━━━━━━━━━━━\u001b[0m\u001b[37m\u001b[0m \u001b[1m0s\u001b[0m 18ms/step - loss: 0.0062 - val_loss: 0.0022\n",
      "Epoch 11/20\n",
      "\u001b[1m10/10\u001b[0m \u001b[32m━━━━━━━━━━━━━━━━━━━━\u001b[0m\u001b[37m\u001b[0m \u001b[1m0s\u001b[0m 22ms/step - loss: 0.0078 - val_loss: 0.0020\n",
      "Epoch 12/20\n",
      "\u001b[1m10/10\u001b[0m \u001b[32m━━━━━━━━━━━━━━━━━━━━\u001b[0m\u001b[37m\u001b[0m \u001b[1m0s\u001b[0m 18ms/step - loss: 0.0068 - val_loss: 0.0026\n",
      "Epoch 13/20\n",
      "\u001b[1m10/10\u001b[0m \u001b[32m━━━━━━━━━━━━━━━━━━━━\u001b[0m\u001b[37m\u001b[0m \u001b[1m0s\u001b[0m 18ms/step - loss: 0.0056 - val_loss: 0.0014\n",
      "Epoch 14/20\n",
      "\u001b[1m10/10\u001b[0m \u001b[32m━━━━━━━━━━━━━━━━━━━━\u001b[0m\u001b[37m\u001b[0m \u001b[1m0s\u001b[0m 22ms/step - loss: 0.0032 - val_loss: 0.0012\n",
      "Epoch 15/20\n",
      "\u001b[1m10/10\u001b[0m \u001b[32m━━━━━━━━━━━━━━━━━━━━\u001b[0m\u001b[37m\u001b[0m \u001b[1m0s\u001b[0m 22ms/step - loss: 0.0034 - val_loss: 0.0015\n",
      "Epoch 16/20\n",
      "\u001b[1m10/10\u001b[0m \u001b[32m━━━━━━━━━━━━━━━━━━━━\u001b[0m\u001b[37m\u001b[0m \u001b[1m0s\u001b[0m 22ms/step - loss: 0.0023 - val_loss: 0.0028\n",
      "Epoch 17/20\n",
      "\u001b[1m10/10\u001b[0m \u001b[32m━━━━━━━━━━━━━━━━━━━━\u001b[0m\u001b[37m\u001b[0m \u001b[1m0s\u001b[0m 22ms/step - loss: 0.0021 - val_loss: 7.3311e-04\n",
      "Epoch 18/20\n",
      "\u001b[1m10/10\u001b[0m \u001b[32m━━━━━━━━━━━━━━━━━━━━\u001b[0m\u001b[37m\u001b[0m \u001b[1m0s\u001b[0m 21ms/step - loss: 0.0020 - val_loss: 6.4562e-04\n",
      "Epoch 19/20\n",
      "\u001b[1m10/10\u001b[0m \u001b[32m━━━━━━━━━━━━━━━━━━━━\u001b[0m\u001b[37m\u001b[0m \u001b[1m0s\u001b[0m 20ms/step - loss: 0.0018 - val_loss: 6.6802e-04\n",
      "Epoch 20/20\n",
      "\u001b[1m10/10\u001b[0m \u001b[32m━━━━━━━━━━━━━━━━━━━━\u001b[0m\u001b[37m\u001b[0m \u001b[1m0s\u001b[0m 20ms/step - loss: 0.0013 - val_loss: 6.4870e-04\n",
      "\u001b[1m7/7\u001b[0m \u001b[32m━━━━━━━━━━━━━━━━━━━━\u001b[0m\u001b[37m\u001b[0m \u001b[1m0s\u001b[0m 39ms/step\n",
      "MAE: 8.330702357517128\n",
      "RMSE: 12.114172422707377\n",
      "R2 Score: 0.9758793130635037\n"
     ]
    }
   ],
   "source": [
    "# Model Architecture\n",
    "def build_transformer_model(seq_len, num_features, embed_dim=64, num_heads=4, ff_dim=128):\n",
    "    inputs = Input(shape=(seq_len, num_features))\n",
    "    x = Dense(embed_dim)(inputs)\n",
    "\n",
    "    # Add positional encoding\n",
    "    pos_encoding = get_positional_encoding(seq_len, embed_dim)\n",
    "    x = x + pos_encoding\n",
    "\n",
    "    # Transformer block\n",
    "    x = TransformerBlock(embed_dim, num_heads, ff_dim)(x)\n",
    "\n",
    "    # Global average pooling: Converts sequence into a fixed-size vector\n",
    "\n",
    "    x = tf.keras.layers.GlobalAveragePooling1D()(x)\n",
    "    x = Dense(64, activation='relu')(x) # 64 neurons \n",
    "    outputs = Dense(1)(x)\n",
    "\n",
    "    model = Model(inputs=inputs, outputs=outputs)\n",
    "    return model\n",
    "\n",
    "# Use correct number of features\n",
    "model = build_transformer_model(seq_len=SEQ_LEN, num_features=X.shape[2])\n",
    "model.compile(optimizer='adam', loss='mse')\n",
    "model.summary()\n",
    "\n",
    "# Train\n",
    "history = model.fit(X_train, y_train, validation_split=0.2, epochs=20, batch_size=64)\n",
    "\n",
    "# Predict & Inverse scale\n",
    "y_pred = model.predict(X_test).flatten()\n",
    "\n",
    "# Inverse scaling\n",
    "target_min = scaler.data_min_[target_index]\n",
    "target_range = scaler.data_max_[target_index] - target_min\n",
    "y_test_inv = y_test * target_range + target_min\n",
    "y_pred_inv = y_pred * target_range + target_min\n",
    "\n",
    "# MinMaxScaler scaled all values between 0 and 1.\n",
    "# This step inverts that scaling for Power_Generated so predictions are in real-world units (Watts):\n",
    "# original_value = scaled_value * range + min\n",
    "\n",
    "# Evaluation\n",
    "print(\"MAE:\", mean_absolute_error(y_test_inv, y_pred_inv))\n",
    "print(\"RMSE:\", np.sqrt(mean_squared_error(y_test_inv, y_pred_inv)))\n",
    "print(\"R2 Score:\", r2_score(y_test_inv, y_pred_inv))\n"
   ]
  },
  {
   "cell_type": "code",
   "execution_count": 53,
   "id": "0359a123",
   "metadata": {},
   "outputs": [
    {
     "data": {
      "image/png": "[encoded data removed]",
      "text/plain": [
       "<Figure size 1000x500 with 1 Axes>"
      ]
     },
     "metadata": {},
     "output_type": "display_data"
    }
   ],
   "source": [
    "# Plot\n",
    "plt.figure(figsize=(10, 5))\n",
    "plt.plot(y_test_inv[:100], label='Actual', color='blue')\n",
    "plt.plot(y_pred_inv[:100], label='Predicted', color='orange')\n",
    "plt.title('Actual vs Predicted Power Generation')\n",
    "plt.xlabel('Sample Index')\n",
    "plt.ylabel('Power Generated (Watts)')\n",
    "plt.legend()\n",
    "plt.grid(True)\n",
    "plt.show()"
   ]
  },
  {
   "cell_type": "code",
   "execution_count": 1,
   "id": "404f52cd",
   "metadata": {},
   "outputs": [
    {
     "name": "stdout",
     "output_type": "stream",
     "text": [
      "Collecting torch\n",
      "  Downloading torch-2.7.0-cp312-cp312-win_amd64.whl.metadata (29 kB)\n",
      "Requirement already satisfied: pandas in c:\\users\\pakhi sharma\\anaconda3\\lib\\site-packages (2.2.2)\n",
      "Requirement already satisfied: scikit-learn in c:\\users\\pakhi sharma\\anaconda3\\lib\\site-packages (1.5.1)\n",
      "Requirement already satisfied: filelock in c:\\users\\pakhi sharma\\anaconda3\\lib\\site-packages (from torch) (3.13.1)\n",
      "Requirement already satisfied: typing-extensions>=4.10.0 in c:\\users\\pakhi sharma\\anaconda3\\lib\\site-packages (from torch) (4.11.0)\n",
      "Collecting sympy>=1.13.3 (from torch)\n",
      "  Downloading sympy-1.14.0-py3-none-any.whl.metadata (12 kB)\n",
      "Requirement already satisfied: networkx in c:\\users\\pakhi sharma\\anaconda3\\lib\\site-packages (from torch) (3.3)\n",
      "Requirement already satisfied: jinja2 in c:\\users\\pakhi sharma\\anaconda3\\lib\\site-packages (from torch) (3.1.4)\n",
      "Requirement already satisfied: fsspec in c:\\users\\pakhi sharma\\anaconda3\\lib\\site-packages (from torch) (2024.6.1)\n",
      "Requirement already satisfied: setuptools in c:\\users\\pakhi sharma\\anaconda3\\lib\\site-packages (from torch) (75.1.0)\n",
      "Requirement already satisfied: numpy>=1.26.0 in c:\\users\\pakhi sharma\\anaconda3\\lib\\site-packages (from pandas) (1.26.4)\n",
      "Requirement already satisfied: python-dateutil>=2.8.2 in c:\\users\\pakhi sharma\\anaconda3\\lib\\site-packages (from pandas) (2.9.0.post0)\n",
      "Requirement already satisfied: pytz>=2020.1 in c:\\users\\pakhi sharma\\anaconda3\\lib\\site-packages (from pandas) (2024.1)\n",
      "Requirement already satisfied: tzdata>=2022.7 in c:\\users\\pakhi sharma\\anaconda3\\lib\\site-packages (from pandas) (2023.3)\n",
      "Requirement already satisfied: scipy>=1.6.0 in c:\\users\\pakhi sharma\\anaconda3\\lib\\site-packages (from scikit-learn) (1.13.1)\n",
      "Requirement already satisfied: joblib>=1.2.0 in c:\\users\\pakhi sharma\\anaconda3\\lib\\site-packages (from scikit-learn) (1.4.2)\n",
      "Requirement already satisfied: threadpoolctl>=3.1.0 in c:\\users\\pakhi sharma\\anaconda3\\lib\\site-packages (from scikit-learn) (3.5.0)\n",
      "Requirement already satisfied: six>=1.5 in c:\\users\\pakhi sharma\\anaconda3\\lib\\site-packages (from python-dateutil>=2.8.2->pandas) (1.16.0)\n",
      "Requirement already satisfied: mpmath<1.4,>=1.1.0 in c:\\users\\pakhi sharma\\anaconda3\\lib\\site-packages (from sympy>=1.13.3->torch) (1.3.0)\n",
      "Requirement already satisfied: MarkupSafe>=2.0 in c:\\users\\pakhi sharma\\anaconda3\\lib\\site-packages (from jinja2->torch) (2.1.3)\n",
      "Downloading torch-2.7.0-cp312-cp312-win_amd64.whl (212.5 MB)\n",
      "   ---------------------------------------- 0.0/212.5 MB ? eta -:--:--\n",
      "    --------------------------------------- 2.9/212.5 MB 15.3 MB/s eta 0:00:14\n",
      "    --------------------------------------- 5.2/212.5 MB 13.9 MB/s eta 0:00:15\n",
      "   - -------------------------------------- 8.4/212.5 MB 13.7 MB/s eta 0:00:15\n",
      "   -- ------------------------------------- 10.7/212.5 MB 13.2 MB/s eta 0:00:16\n",
      "   -- ------------------------------------- 13.9/212.5 MB 13.9 MB/s eta 0:00:15\n",
      "   --- ------------------------------------ 17.8/212.5 MB 14.6 MB/s eta 0:00:14\n",
      "   --- ------------------------------------ 21.2/212.5 MB 14.9 MB/s eta 0:00:13\n",
      "   ---- ----------------------------------- 24.1/212.5 MB 14.8 MB/s eta 0:00:13\n",
      "   ----- ---------------------------------- 27.5/212.5 MB 14.9 MB/s eta 0:00:13\n",
      "   ----- ---------------------------------- 30.7/212.5 MB 15.0 MB/s eta 0:00:13\n",
      "   ------ --------------------------------- 34.3/212.5 MB 15.1 MB/s eta 0:00:12\n",
      "   ------- -------------------------------- 38.0/212.5 MB 15.4 MB/s eta 0:00:12\n",
      "   ------- -------------------------------- 41.2/212.5 MB 15.3 MB/s eta 0:00:12\n",
      "   -------- ------------------------------- 44.3/212.5 MB 15.2 MB/s eta 0:00:12\n",
      "   -------- ------------------------------- 47.4/212.5 MB 15.3 MB/s eta 0:00:11\n",
      "   --------- ------------------------------ 50.3/212.5 MB 15.1 MB/s eta 0:00:11\n",
      "   --------- ------------------------------ 53.0/212.5 MB 15.0 MB/s eta 0:00:11\n",
      "   ---------- ----------------------------- 55.8/212.5 MB 14.9 MB/s eta 0:00:11\n",
      "   ----------- ---------------------------- 59.0/212.5 MB 14.9 MB/s eta 0:00:11\n",
      "   ----------- ---------------------------- 61.6/212.5 MB 14.8 MB/s eta 0:00:11\n",
      "   ------------ --------------------------- 64.2/212.5 MB 14.7 MB/s eta 0:00:11\n",
      "   ------------ --------------------------- 66.8/212.5 MB 14.6 MB/s eta 0:00:10\n",
      "   ------------- -------------------------- 69.2/212.5 MB 14.5 MB/s eta 0:00:10\n",
      "   ------------- -------------------------- 71.8/212.5 MB 14.4 MB/s eta 0:00:10\n",
      "   ------------- -------------------------- 74.2/212.5 MB 14.3 MB/s eta 0:00:10\n",
      "   -------------- ------------------------- 77.1/212.5 MB 14.2 MB/s eta 0:00:10\n",
      "   -------------- ------------------------- 79.4/212.5 MB 14.2 MB/s eta 0:00:10\n",
      "   --------------- ------------------------ 82.1/212.5 MB 14.1 MB/s eta 0:00:10\n",
      "   --------------- ------------------------ 84.4/212.5 MB 14.0 MB/s eta 0:00:10\n",
      "   ---------------- ----------------------- 87.3/212.5 MB 14.0 MB/s eta 0:00:09\n",
      "   ---------------- ----------------------- 89.9/212.5 MB 13.9 MB/s eta 0:00:09\n",
      "   ----------------- ---------------------- 92.5/212.5 MB 13.9 MB/s eta 0:00:09\n",
      "   ----------------- ---------------------- 94.9/212.5 MB 13.8 MB/s eta 0:00:09\n",
      "   ------------------ --------------------- 97.3/212.5 MB 13.7 MB/s eta 0:00:09\n",
      "   ------------------ --------------------- 99.9/212.5 MB 13.7 MB/s eta 0:00:09\n",
      "   ------------------ -------------------- 102.2/212.5 MB 13.6 MB/s eta 0:00:09\n",
      "   ------------------- ------------------- 104.9/212.5 MB 13.6 MB/s eta 0:00:08\n",
      "   ------------------- ------------------- 107.5/212.5 MB 13.6 MB/s eta 0:00:08\n",
      "   -------------------- ------------------ 110.1/212.5 MB 13.5 MB/s eta 0:00:08\n",
      "   -------------------- ------------------ 113.0/212.5 MB 13.5 MB/s eta 0:00:08\n",
      "   --------------------- ----------------- 115.6/212.5 MB 13.5 MB/s eta 0:00:08\n",
      "   --------------------- ----------------- 118.0/212.5 MB 13.5 MB/s eta 0:00:08\n",
      "   ---------------------- ---------------- 120.6/212.5 MB 13.4 MB/s eta 0:00:07\n",
      "   ---------------------- ---------------- 123.2/212.5 MB 13.4 MB/s eta 0:00:07\n",
      "   ----------------------- --------------- 125.8/212.5 MB 13.4 MB/s eta 0:00:07\n",
      "   ----------------------- --------------- 128.5/212.5 MB 13.3 MB/s eta 0:00:07\n",
      "   ------------------------ -------------- 131.1/212.5 MB 13.3 MB/s eta 0:00:07\n",
      "   ------------------------ -------------- 133.4/212.5 MB 13.3 MB/s eta 0:00:06\n",
      "   ------------------------ -------------- 136.1/212.5 MB 13.3 MB/s eta 0:00:06\n",
      "   ------------------------- ------------- 138.7/212.5 MB 13.3 MB/s eta 0:00:06\n",
      "   ------------------------- ------------- 141.3/212.5 MB 13.3 MB/s eta 0:00:06\n",
      "   -------------------------- ------------ 144.4/212.5 MB 13.3 MB/s eta 0:00:06\n",
      "   --------------------------- ----------- 147.3/212.5 MB 13.3 MB/s eta 0:00:05\n",
      "   --------------------------- ----------- 150.5/212.5 MB 13.3 MB/s eta 0:00:05\n",
      "   ---------------------------- ---------- 153.4/212.5 MB 13.3 MB/s eta 0:00:05\n",
      "   ---------------------------- ---------- 156.8/212.5 MB 13.4 MB/s eta 0:00:05\n",
      "   ----------------------------- --------- 159.6/212.5 MB 13.4 MB/s eta 0:00:04\n",
      "   ----------------------------- --------- 163.1/212.5 MB 13.4 MB/s eta 0:00:04\n",
      "   ------------------------------ -------- 165.9/212.5 MB 13.4 MB/s eta 0:00:04\n",
      "   ------------------------------- ------- 169.1/212.5 MB 13.5 MB/s eta 0:00:04\n",
      "   ------------------------------- ------- 171.7/212.5 MB 13.4 MB/s eta 0:00:04\n",
      "   ------------------------------- ------- 173.5/212.5 MB 13.4 MB/s eta 0:00:03\n",
      "   -------------------------------- ------ 176.2/212.5 MB 13.4 MB/s eta 0:00:03\n",
      "   -------------------------------- ------ 178.5/212.5 MB 13.3 MB/s eta 0:00:03\n",
      "   --------------------------------- ----- 180.6/212.5 MB 13.3 MB/s eta 0:00:03\n",
      "   --------------------------------- ----- 183.0/212.5 MB 13.2 MB/s eta 0:00:03\n",
      "   ---------------------------------- ---- 185.3/212.5 MB 13.2 MB/s eta 0:00:03\n",
      "   ---------------------------------- ---- 188.0/212.5 MB 13.2 MB/s eta 0:00:02\n",
      "   ----------------------------------- --- 190.8/212.5 MB 13.2 MB/s eta 0:00:02\n",
      "   ----------------------------------- --- 193.7/212.5 MB 13.2 MB/s eta 0:00:02\n",
      "   ----------------------------------- --- 196.1/212.5 MB 13.2 MB/s eta 0:00:02\n",
      "   ------------------------------------ -- 198.7/212.5 MB 13.2 MB/s eta 0:00:02\n",
      "   ------------------------------------- - 201.6/212.5 MB 13.2 MB/s eta 0:00:01\n",
      "   ------------------------------------- - 203.4/212.5 MB 13.1 MB/s eta 0:00:01\n",
      "   ------------------------------------- - 206.0/212.5 MB 13.1 MB/s eta 0:00:01\n",
      "   --------------------------------------  208.7/212.5 MB 13.1 MB/s eta 0:00:01\n",
      "   --------------------------------------  210.8/212.5 MB 13.1 MB/s eta 0:00:01\n",
      "   --------------------------------------  212.3/212.5 MB 13.1 MB/s eta 0:00:01\n",
      "   --------------------------------------  212.3/212.5 MB 13.1 MB/s eta 0:00:01\n",
      "   --------------------------------------- 212.5/212.5 MB 12.8 MB/s eta 0:00:00\n",
      "Downloading sympy-1.14.0-py3-none-any.whl (6.3 MB)\n",
      "   ---------------------------------------- 0.0/6.3 MB ? eta -:--:--\n",
      "   -------------- ------------------------- 2.4/6.3 MB 12.2 MB/s eta 0:00:01\n",
      "   ---------------------------------- ----- 5.5/6.3 MB 13.4 MB/s eta 0:00:01\n",
      "   ---------------------------------------- 6.3/6.3 MB 12.4 MB/s eta 0:00:00\n",
      "Installing collected packages: sympy, torch\n",
      "  Attempting uninstall: sympy\n",
      "    Found existing installation: sympy 1.13.2\n",
      "    Uninstalling sympy-1.13.2:\n",
      "      Successfully uninstalled sympy-1.13.2\n",
      "Successfully installed sympy-1.14.0 torch-2.7.0\n",
      "Note: you may need to restart the kernel to use updated packages.\n"
     ]
    }
   ],
   "source": [
    "pip install torch pandas scikit-learn"
   ]
  },
  {
   "cell_type": "code",
   "execution_count": 5,
   "id": "1c1ebb19",
   "metadata": {},
   "outputs": [
    {
     "name": "stdout",
     "output_type": "stream",
     "text": [
      "Epoch 1/20, Loss: 1.4292\n",
      "Epoch 2/20, Loss: 0.2674\n",
      "Epoch 3/20, Loss: 0.1993\n",
      "Epoch 4/20, Loss: 0.1704\n",
      "Epoch 5/20, Loss: 0.1486\n",
      "Epoch 6/20, Loss: 0.1383\n",
      "Epoch 7/20, Loss: 0.1304\n",
      "Epoch 8/20, Loss: 0.1296\n",
      "Epoch 9/20, Loss: 0.1253\n",
      "Epoch 10/20, Loss: 0.1226\n",
      "Epoch 11/20, Loss: 0.1164\n",
      "Epoch 12/20, Loss: 0.1112\n",
      "Epoch 13/20, Loss: 0.1079\n",
      "Epoch 14/20, Loss: 0.1055\n",
      "Epoch 15/20, Loss: 0.1065\n",
      "Epoch 16/20, Loss: 0.1046\n",
      "Epoch 17/20, Loss: 0.1053\n",
      "Epoch 18/20, Loss: 0.1059\n",
      "Epoch 19/20, Loss: 0.1047\n",
      "Epoch 20/20, Loss: 0.1041\n",
      "            Timestamp  Predicted_Power_Generated\n",
      "0 2022-05-02 12:00:00                 308.965992\n",
      "1 2022-05-02 12:05:00                 269.721318\n",
      "2 2022-05-02 12:10:00                 262.985613\n",
      "3 2022-05-02 12:15:00                 273.587825\n",
      "4 2022-05-02 12:20:00                 224.076593\n",
      "5 2022-05-02 12:25:00                 195.123850\n",
      "6 2022-05-02 12:30:00                 235.152474\n",
      "7 2022-05-02 12:35:00                 172.368391\n",
      "8 2022-05-02 12:40:00                 262.114719\n",
      "9 2022-05-02 12:45:00                 267.602636\n"
     ]
    }
   ],
   "source": [
    "import torch\n",
    "import torch.nn as nn\n",
    "from sklearn.preprocessing import MinMaxScaler\n",
    "from datetime import timedelta\n",
    "\n",
    "timestamps = pd.date_range(start=\"2022-04-30\", periods=720, freq=\"5min\")\n",
    "data = pd.DataFrame({\n",
    "    \"Timestamp\": timestamps,\n",
    "    \"Solar_Radiation\": np.random.rand(720) * 1000,\n",
    "    \"Air_Temp\": np.random.rand(720) * 40,\n",
    "    \"Relative_Humidity\": np.random.rand(720) * 100,\n",
    "    \"Power_Generated\": np.random.rand(720) * 500\n",
    "})\n",
    "\n",
    "# Features and scaling\n",
    "features = ['Solar_Radiation', 'Air_Temp', 'Relative_Humidity', 'Power_Generated']\n",
    "scaler = MinMaxScaler()\n",
    "scaled_data = scaler.fit_transform(data[features])\n",
    "target_idx = features.index('Power_Generated')\n",
    "\n",
    "# Create sequence\n",
    "SEQ_LEN = 24\n",
    "FUTURE_STEPS = 10\n",
    "\n",
    "def create_sequences(data, seq_len, future_steps, target_index):\n",
    "    X, y = [], []\n",
    "    for i in range(len(data) - seq_len - future_steps + 1):\n",
    "        X.append(data[i:i+seq_len])\n",
    "        y.append(data[i+seq_len:i+seq_len+future_steps, target_index])\n",
    "    return np.array(X), np.array(y)\n",
    "\n",
    "X, y = create_sequences(scaled_data, SEQ_LEN, FUTURE_STEPS, target_idx)\n",
    "X_train, y_train = X[:-100], y[:-100]\n",
    "X_test, y_test = X[-100:], y[-100:]\n",
    "\n",
    "# Transformer model\n",
    "class TransformerPredictor(nn.Module):\n",
    "    def __init__(self, input_dim, model_dim, nhead, num_layers, output_len):\n",
    "        super().__init__()\n",
    "        self.input_proj = nn.Linear(input_dim, model_dim)\n",
    "        encoder_layer = nn.TransformerEncoderLayer(d_model=model_dim, nhead=nhead, batch_first=True)\n",
    "        self.transformer = nn.TransformerEncoder(encoder_layer, num_layers=num_layers)\n",
    "        self.output = nn.Linear(model_dim, output_len)\n",
    "\n",
    "    def forward(self, x):\n",
    "        x = self.input_proj(x)\n",
    "        x = self.transformer(x)\n",
    "        return self.output(x[:, -1])\n",
    "\n",
    "model = TransformerPredictor(input_dim=X.shape[2], model_dim=64, nhead=4, num_layers=2, output_len=FUTURE_STEPS)\n",
    "optimizer = torch.optim.Adam(model.parameters(), lr=0.001)\n",
    "criterion = nn.MSELoss()\n",
    "\n",
    "# Training\n",
    "EPOCHS = 20\n",
    "for epoch in range(EPOCHS):\n",
    "    model.train()\n",
    "    inputs = torch.tensor(X_train, dtype=torch.float32)\n",
    "    targets = torch.tensor(y_train, dtype=torch.float32)\n",
    "    preds = model(inputs)\n",
    "    loss = criterion(preds, targets)\n",
    "    optimizer.zero_grad()\n",
    "    loss.backward()\n",
    "    optimizer.step()\n",
    "    print(f\"Epoch {epoch+1}/{EPOCHS}, Loss: {loss.item():.4f}\")\n",
    "\n",
    "# Predict on latest known sequence\n",
    "model.eval()\n",
    "last_sequence = torch.tensor(scaled_data[-SEQ_LEN:], dtype=torch.float32).unsqueeze(0)\n",
    "with torch.no_grad():\n",
    "    pred_scaled = model(last_sequence).numpy().flatten()\n",
    "\n",
    "# Inverse transform predictions\n",
    "temp = np.zeros((FUTURE_STEPS, len(features)))\n",
    "temp[:, target_idx] = pred_scaled\n",
    "pred_rescaled = scaler.inverse_transform(temp)[:, target_idx]\n",
    "\n",
    "# Generate future timestamps\n",
    "last_time = data[\"Timestamp\"].iloc[-1]\n",
    "future_timestamps = [last_time + timedelta(minutes=5 * (i + 1)) for i in range(FUTURE_STEPS)]\n",
    "\n",
    "# Final output\n",
    "forecast_df = pd.DataFrame({\n",
    "    \"Timestamp\": future_timestamps,\n",
    "    \"Predicted_Power_Generated\": pred_rescaled\n",
    "})\n",
    "\n",
    "print(forecast_df)\n"
   ]
  }
 ],
 "metadata": {
  "kernelspec": {
   "display_name": "base",
   "language": "python",
   "name": "python3"
  },
  "language_info": {
   "codemirror_mode": {
    "name": "ipython",
    "version": 3
   },
   "file_extension": ".py",
   "mimetype": "text/x-python",
   "name": "python",
   "nbconvert_exporter": "python",
   "pygments_lexer": "ipython3",
   "version": "3.12.7"
  }
 },
 "nbformat": 4,
 "nbformat_minor": 5
}
